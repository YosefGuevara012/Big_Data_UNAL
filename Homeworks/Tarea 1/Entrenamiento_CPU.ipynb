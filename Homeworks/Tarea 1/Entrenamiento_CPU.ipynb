{
  "nbformat": 4,
  "nbformat_minor": 0,
  "metadata": {
    "colab": {
      "name": "Tarea1_Bigdata.ipynb",
      "provenance": []
    },
    "kernelspec": {
      "name": "python3",
      "display_name": "Python 3"
    }
  },
  "cells": [
    {
      "cell_type": "markdown",
      "metadata": {
        "id": "hAqrMb8tZiPS"
      },
      "source": [
        "\r\n",
        "# Función para leer el set de datos\r\n",
        "\r\n"
      ]
    },
    {
      "cell_type": "code",
      "metadata": {
        "id": "pNzgsSBoZH4N"
      },
      "source": [
        "import numpy as np\r\n",
        "import os\r\n",
        "import gzip\r\n",
        "\r\n",
        "def cargar_set(rute, tipo=\"train\"):\r\n",
        "\r\n",
        "  ruta_categorias = os.path.join(ruta, '%s-labels-idx1-ubyte.gz'%tipo)\r\n",
        "  ruta_imagenes = os.path.join(ruta, '%s-images-idx3-ubyte.gz' % tipo)\r\n",
        "\r\n",
        "  with gzip.open(ruta_categorias, 'rb') as rut_cat:\r\n",
        "    etiquetas = np.frombuffer(rut_cat.read(), dtype = np.uint8, offset = 8)\r\n",
        "\r\n",
        "  with gzip.open(ruta_imagenes, 'rb') as rut_imgs:\r\n",
        "    imagenes = np.frombuffer(rut_imgs.read(), dtype = np.uint8, offset= 16).reshape(len(etiquetas), 784)\r\n",
        "\r\n",
        "  return imagenes, etiquetas"
      ],
      "execution_count": 1,
      "outputs": []
    },
    {
      "cell_type": "markdown",
      "metadata": {
        "id": "BtR0Kgf6bcY1"
      },
      "source": [
        "# Acceso a la información en Google Drive\r\n"
      ]
    },
    {
      "cell_type": "code",
      "metadata": {
        "colab": {
          "base_uri": "https://localhost:8080/"
        },
        "id": "izSJ_u2uZehz",
        "outputId": "29c73483-6319-4793-d4df-19e8385561a7"
      },
      "source": [
        "from google.colab import drive\r\n",
        "drive.mount('/content/gdrive')\r\n",
        "\r\n",
        "ruta = 'gdrive/My Drive/Big_Data_unal/Data_sets/fashion_mnist_data'\r\n",
        "\r\n",
        "X_train, Y_train = cargar_set(ruta, tipo = 'train')\r\n",
        "X_test, Y_test = cargar_set(ruta, tipo = 'test')"
      ],
      "execution_count": 2,
      "outputs": [
        {
          "output_type": "stream",
          "text": [
            "Drive already mounted at /content/gdrive; to attempt to forcibly remount, call drive.mount(\"/content/gdrive\", force_remount=True).\n"
          ],
          "name": "stdout"
        }
      ]
    },
    {
      "cell_type": "markdown",
      "metadata": {
        "id": "tErdQf9Idd08"
      },
      "source": [
        "\r\n",
        "#Reajustar (Reshape) del tamaño de los datos\r\n"
      ]
    },
    {
      "cell_type": "code",
      "metadata": {
        "id": "tG82d-jDdpA7"
      },
      "source": [
        "X_train = X_train[0:59904,:]\r\n",
        "X_test = X_test[0:9984,:]\r\n",
        "Y_train = Y_train[0:59904]\r\n",
        "Y_test = Y_test[0:9984]\r\n",
        "\r\n",
        "X_train = np.reshape(X_train, (59904,28,28,1))\r\n",
        "X_test = np.reshape(X_test, (9984,28,28,1))"
      ],
      "execution_count": 3,
      "outputs": []
    },
    {
      "cell_type": "markdown",
      "metadata": {
        "id": "SKhuSI3seF2D"
      },
      "source": [
        "# Importar TensorFlow 2 con Keras"
      ]
    },
    {
      "cell_type": "code",
      "metadata": {
        "colab": {
          "base_uri": "https://localhost:8080/"
        },
        "id": "LhaJOMsYeFPD",
        "outputId": "04486ff1-0b10-4f31-9cb2-41c0695c3f41"
      },
      "source": [
        "%tensorflow_version 2.x\r\n",
        "import tensorflow as tf\r\n",
        "\r\n",
        "print('Versión de TensorFlow' + tf.__version__)"
      ],
      "execution_count": 4,
      "outputs": [
        {
          "output_type": "stream",
          "text": [
            "Versión de TensorFlow2.4.1\n"
          ],
          "name": "stdout"
        }
      ]
    },
    {
      "cell_type": "markdown",
      "metadata": {
        "id": "v4IoRNLeejn-"
      },
      "source": [
        "# Creación del modelo\r\n"
      ]
    },
    {
      "cell_type": "code",
      "metadata": {
        "colab": {
          "base_uri": "https://localhost:8080/"
        },
        "id": "pDLQRDnteovD",
        "outputId": "211efbc6-735f-4a2f-ed78-66965b680eac"
      },
      "source": [
        "tf.random.set_seed(200)\r\n",
        "\r\n",
        "modelo = tf.keras.models.Sequential()\r\n",
        "\r\n",
        "modelo.add(tf.keras.layers.BatchNormalization(input_shape = X_train.shape[1:]))\r\n",
        "modelo.add(tf.keras.layers.Conv2D(64, (5, 5), padding = 'same', activation ='elu'))\r\n",
        "modelo.add(tf.keras.layers.MaxPooling2D(pool_size=(2,2), strides =(2,2)))\r\n",
        "modelo.add(tf.keras.layers.Dropout(0.25))\r\n",
        "\r\n",
        "modelo.add(tf.keras.layers.BatchNormalization(input_shape = X_train.shape[1:]))\r\n",
        "modelo.add(tf.keras.layers.Conv2D(128, (5, 5), padding = 'same', activation ='elu'))\r\n",
        "modelo.add(tf.keras.layers.MaxPooling2D(pool_size=(2,2), strides =(2,2)))\r\n",
        "modelo.add(tf.keras.layers.Dropout(0.25))\r\n",
        "\r\n",
        "modelo.add(tf.keras.layers.BatchNormalization(input_shape = X_train.shape[1:]))\r\n",
        "modelo.add(tf.keras.layers.Conv2D(256, (5, 5), padding = 'same', activation ='elu'))\r\n",
        "modelo.add(tf.keras.layers.MaxPooling2D(pool_size=(2,2), strides =(2,2)))\r\n",
        "modelo.add(tf.keras.layers.Dropout(0.25))\r\n",
        "\r\n",
        "modelo.add(tf.keras.layers.Flatten())\r\n",
        "modelo.add(tf.keras.layers.Dense(256))\r\n",
        "modelo.add(tf.keras.layers.Activation('elu'))\r\n",
        "modelo.add(tf.keras.layers.Dropout(0.5))\r\n",
        "modelo.add(tf.keras.layers.Dense(10))\r\n",
        "modelo.add(tf.keras.layers.Activation('softmax'))\r\n",
        "\r\n",
        "# Imprimir en pantalla la información del modelo\r\n",
        "\r\n",
        "modelo.summary()"
      ],
      "execution_count": 5,
      "outputs": [
        {
          "output_type": "stream",
          "text": [
            "Model: \"sequential\"\n",
            "_________________________________________________________________\n",
            "Layer (type)                 Output Shape              Param #   \n",
            "=================================================================\n",
            "batch_normalization (BatchNo (None, 28, 28, 1)         4         \n",
            "_________________________________________________________________\n",
            "conv2d (Conv2D)              (None, 28, 28, 64)        1664      \n",
            "_________________________________________________________________\n",
            "max_pooling2d (MaxPooling2D) (None, 14, 14, 64)        0         \n",
            "_________________________________________________________________\n",
            "dropout (Dropout)            (None, 14, 14, 64)        0         \n",
            "_________________________________________________________________\n",
            "batch_normalization_1 (Batch (None, 14, 14, 64)        256       \n",
            "_________________________________________________________________\n",
            "conv2d_1 (Conv2D)            (None, 14, 14, 128)       204928    \n",
            "_________________________________________________________________\n",
            "max_pooling2d_1 (MaxPooling2 (None, 7, 7, 128)         0         \n",
            "_________________________________________________________________\n",
            "dropout_1 (Dropout)          (None, 7, 7, 128)         0         \n",
            "_________________________________________________________________\n",
            "batch_normalization_2 (Batch (None, 7, 7, 128)         512       \n",
            "_________________________________________________________________\n",
            "conv2d_2 (Conv2D)            (None, 7, 7, 256)         819456    \n",
            "_________________________________________________________________\n",
            "max_pooling2d_2 (MaxPooling2 (None, 3, 3, 256)         0         \n",
            "_________________________________________________________________\n",
            "dropout_2 (Dropout)          (None, 3, 3, 256)         0         \n",
            "_________________________________________________________________\n",
            "flatten (Flatten)            (None, 2304)              0         \n",
            "_________________________________________________________________\n",
            "dense (Dense)                (None, 256)               590080    \n",
            "_________________________________________________________________\n",
            "activation (Activation)      (None, 256)               0         \n",
            "_________________________________________________________________\n",
            "dropout_3 (Dropout)          (None, 256)               0         \n",
            "_________________________________________________________________\n",
            "dense_1 (Dense)              (None, 10)                2570      \n",
            "_________________________________________________________________\n",
            "activation_1 (Activation)    (None, 10)                0         \n",
            "=================================================================\n",
            "Total params: 1,619,470\n",
            "Trainable params: 1,619,084\n",
            "Non-trainable params: 386\n",
            "_________________________________________________________________\n"
          ],
          "name": "stdout"
        }
      ]
    },
    {
      "cell_type": "markdown",
      "metadata": {
        "id": "xStL-xYchyNi"
      },
      "source": [
        "# Entrenamiento con CPU"
      ]
    },
    {
      "cell_type": "code",
      "metadata": {
        "id": "dcPTYXgXh3si"
      },
      "source": [
        "modelo.compile(optimizer='adam', loss = 'sparse_categorical_crossentropy', metrics = ['accuracy'])"
      ],
      "execution_count": 6,
      "outputs": []
    },
    {
      "cell_type": "code",
      "metadata": {
        "colab": {
          "base_uri": "https://localhost:8080/"
        },
        "id": "Lfaym3Iwiifc",
        "outputId": "dfda0030-1f8a-48e6-dead-9d0d44cc35c9"
      },
      "source": [
        "import timeit\r\n",
        "\r\n",
        "\r\n",
        "def entrenamiento_cpu():\r\n",
        "  \r\n",
        "  with tf.device('/cpu:0'):\r\n",
        "    modelo.fit(X_train, Y_train, validation_data = (X_test, Y_test), batch_size = 128, epochs = 2, verbose = 1)\r\n",
        "\r\n",
        "    return None\r\n",
        "\r\n",
        "\r\n",
        "cpu_time = timeit.timeit('entrenamiento_cpu()', number = 1, setup = 'from __main__ import entrenamiento_cpu')"
      ],
      "execution_count": 8,
      "outputs": [
        {
          "output_type": "stream",
          "text": [
            "Epoch 1/2\n",
            "468/468 [==============================] - 762s 2s/step - loss: 1.0167 - accuracy: 0.7082 - val_loss: 0.3773 - val_accuracy: 0.8654\n",
            "Epoch 2/2\n",
            "468/468 [==============================] - 761s 2s/step - loss: 0.4037 - accuracy: 0.8597 - val_loss: 0.3486 - val_accuracy: 0.8783\n"
          ],
          "name": "stdout"
        }
      ]
    },
    {
      "cell_type": "code",
      "metadata": {
        "colab": {
          "base_uri": "https://localhost:8080/"
        },
        "id": "2tfSrSyhqEbp",
        "outputId": "a5f9285e-ffe8-4557-b04f-acd5277c52b0"
      },
      "source": [
        "print('El tiempo de entrenamiento es de: ' + str(cpu_time/60) + \" minutos\")"
      ],
      "execution_count": 11,
      "outputs": [
        {
          "output_type": "stream",
          "text": [
            "El tiempo de entrenamiento es de: 25.39026785958334 minutos\n"
          ],
          "name": "stdout"
        }
      ]
    }
  ]
}