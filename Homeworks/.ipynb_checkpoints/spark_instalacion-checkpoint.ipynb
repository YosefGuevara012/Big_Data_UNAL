{
 "cells": [
  {
   "cell_type": "markdown",
   "id": "768ff986-b8c0-4a22-93b3-48a0b8b438d9",
   "metadata": {},
   "source": [
    "## Tarea Instalación Spark"
   ]
  },
  {
   "cell_type": "markdown",
   "id": "98a2255b-df1a-45d7-96fe-f7f6ac6b1ea1",
   "metadata": {},
   "source": [
    "Presentado por: Yosef Guevara Salamanca"
   ]
  },
  {
   "cell_type": "markdown",
   "id": "aa984814-4be9-4386-9f36-6fba85029d68",
   "metadata": {},
   "source": [
    "### Punto 1.\n",
    "\n",
    "Activación Servidor Maestro y esclavo\n",
    "\n",
    "![Servidores](./Spark/1.png) "
   ]
  },
  {
   "cell_type": "markdown",
   "id": "443c64d3-3e98-49e1-af13-6a6cae484914",
   "metadata": {},
   "source": [
    "### Punto 2.\n",
    "\n",
    "Activación del shell de spark\n",
    "\n",
    "![shell](./Spark/2.png) "
   ]
  },
  {
   "cell_type": "code",
   "execution_count": 4,
   "id": "d031514c-cd13-425d-9b32-f99aeb589f17",
   "metadata": {},
   "outputs": [],
   "source": [
    "import findspark\n",
    "findspark.init()\n",
    "import pyspark\n",
    "import random"
   ]
  },
  {
   "cell_type": "code",
   "execution_count": 5,
   "id": "b0a2e762-17f7-4726-9523-f5a2775696f3",
   "metadata": {},
   "outputs": [
    {
     "name": "stdout",
     "output_type": "stream",
     "text": [
      "3.14149896\n"
     ]
    }
   ],
   "source": [
    "# crea un contexto Spark\n",
    "sc = pyspark.SparkContext(appName=\"Pi\")\n",
    "\n",
    "# genera 100 millones muestras para estimar $\\pi$.\n",
    "num_samples = 100000000\n",
    "def inside(p):     \n",
    "  x, y = random.random(), random.random()\n",
    "  return x*x + y*y < 1\n",
    "count = sc.parallelize(range(0, num_samples)).filter(inside).count()\n",
    "pi = 4 * count / num_samples\n",
    "print(pi)\n",
    "\n",
    "# detiene el contexto\n",
    "sc.stop()"
   ]
  },
  {
   "cell_type": "code",
   "execution_count": null,
   "id": "6a7a2af2-c655-4839-9897-d0ace80b15e5",
   "metadata": {},
   "outputs": [],
   "source": []
  }
 ],
 "metadata": {
  "kernelspec": {
   "display_name": "Python 3",
   "language": "python",
   "name": "python3"
  },
  "language_info": {
   "codemirror_mode": {
    "name": "ipython",
    "version": 3
   },
   "file_extension": ".py",
   "mimetype": "text/x-python",
   "name": "python",
   "nbconvert_exporter": "python",
   "pygments_lexer": "ipython3",
   "version": "3.9.5"
  }
 },
 "nbformat": 4,
 "nbformat_minor": 5
}
