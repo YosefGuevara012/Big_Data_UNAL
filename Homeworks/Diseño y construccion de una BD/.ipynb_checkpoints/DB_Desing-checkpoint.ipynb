{
 "cells": [
  {
   "cell_type": "markdown",
   "id": "separate-activation",
   "metadata": {},
   "source": [
    "# Diseño de bases de datos"
   ]
  },
  {
   "cell_type": "markdown",
   "id": "local-extent",
   "metadata": {},
   "source": [
    "Las bases de datos existen por la necesidad de transformar los datos en información. Los datos son los hechos en bruto y sin procesar. La información se obtiene transformando los datos en algo útil. Por ejemplo, millones de nombres y números de teléfono en una guía telefónica son datos.\n",
    "\n",
    "Información es el número de teléfono de los bomberos cuando tu casa se está quemando. Una base de datos es un gran repositorio de hechos, diseñado de tal manera que el procesamiento de los hechos en información es fácil. Si la guía telefónica estuviera estructurada de una manera menos conveniente, como por ejemplo con nombres y números colocados en orden cronológico según la fecha de emisión de los números, convertir los datos en información sería mucho más difícil."
   ]
  },
  {
   "cell_type": "markdown",
   "id": "assured-mounting",
   "metadata": {},
   "source": [
    "## 1. Ciclo de vida de una Base de datos"
   ]
  },
  {
   "cell_type": "markdown",
   "id": "following-profit",
   "metadata": {},
   "source": [
    "Incluso la base de datos más exitosa es sustituida en algún momento por otra estructura más flexible y actualizada, y así comienza una nueva vida. Aunque las definiciones exactas difieren, en general hay seis etapas del ciclo de vida de las bases de datos."
   ]
  },
  {
   "cell_type": "markdown",
   "id": "fitted-venice",
   "metadata": {
    "tags": []
   },
   "source": [
    "1. Analisis\n",
    "2. Diseño\n",
    "3. Implementación\n",
    "4. Testeo\n",
    "5. Operación\n",
    "6. Mantenimiento"
   ]
  },
  {
   "cell_type": "markdown",
   "id": "infectious-times",
   "metadata": {},
   "source": [
    "<p align=\"center\">\n",
    "  <img width=\"460\" height=\"300\" src=\"https://db.grussell.org/co22001%20notes_files/image023.gif\">\n",
    "</p>\n"
   ]
  },
  {
   "cell_type": "markdown",
   "id": "therapeutic-return",
   "metadata": {},
   "source": [
    "### 1. Analisis"
   ]
  },
  {
   "cell_type": "markdown",
   "id": "vocational-saudi",
   "metadata": {},
   "source": [
    "Antes de proceder con un analisis es importante entender que cada entidad debe poseer un tipo diseño diferente pues este deiseño debe ajsutarse a sus necesidades es decir que un Banco no tendra un diseño igual que el de una ensambladora de autos, es decir que una solución no puede implementarse para distintas organizaciones. Entender la estructura de negociode una organización y sus productors permite identificar los ejes fundamentales sobre los que se basara el diseño Hay que interrogar a los diferentes actores, ya que cada uno puede aportar nuevos conocimientos sobre lo que puede Cada entidad esta relacionada entre si con otra de determinada manera. Por ejemplo una casa puede tener varios baños pero un baño no puede estar en varias casas:\n",
    "Cada entidad esta relacionada entre si con otra de determinada manera. Por ejemplo una casa puede tener varios baños pero un baño no puede estar en varias casas:\n",
    "nformación quiere almacenar específicamente la empresa y qué quiere calcular."
   ]
  },
  {
   "cell_type": "markdown",
   "id": "elementary-liberia",
   "metadata": {},
   "source": [
    "### 2. Diseño"
   ]
  },
  {
   "cell_type": "markdown",
   "id": "welsh-syndicate",
   "metadata": {},
   "source": [
    "Esta conformado por 3 partes el diseño conceptual, lógico y físico para llevar las especificaciones a diseños físicos implementables. se preguntan cosas como (\"¿Qué datos se necesitan? ¿Cuáles son los problemas que hay que resolver?\") se sustituyen por las preguntas sobre el cómo (\"¿Cómo se van a estructurar los datos? ¿Cómo se va a acceder a ellos?\")"
   ]
  },
  {
   "cell_type": "markdown",
   "id": "mediterranean-beginning",
   "metadata": {},
   "source": [
    "#### 2.1.Diseño conceptual"
   ]
  },
  {
   "cell_type": "markdown",
   "id": "alien-japanese",
   "metadata": {},
   "source": [
    "Es comúnmente llamado modelo **entidad relación**. En está fase utilizamos esquemas que representan mediante diagramas **entidades** como usuarios, empleados, coches y los **atributos**, es decir cada una de las características que las componen, como fechas, datos numéricos, caracteres, etc."
   ]
  },
  {
   "cell_type": "markdown",
   "id": "expired-gazette",
   "metadata": {},
   "source": [
    "**Entidades**\n",
    "\n",
    "Representan cosas u objetos (reales o abstractos, que se diferencian claramente entre sí.\n",
    "\n",
    "<p align=\"center\">\n",
    "  <img width=\"460\" height=\"300\" src=\"https://i.blogs.es/d1b3c7/entidades/650_1200.png\">\n",
    "</p>\n"
   ]
  },
  {
   "cell_type": "markdown",
   "id": "declared-wallace",
   "metadata": {},
   "source": [
    "**Atributos**\n",
    "\n",
    "Los atributos definen o identifican las características de entidad.\n",
    "\n",
    "<p align=\"center\">\n",
    "  <img width=\"200\" height=\"300\" src=\"https://i.blogs.es/fc15c0/atributos/650_1200.png\">\n",
    "</p>"
   ]
  },
  {
   "cell_type": "markdown",
   "id": "driving-encyclopedia",
   "metadata": {},
   "source": [
    "**Relaciones**\n",
    "\n",
    "Cada entidad esta relacionada entre si con otra de determinada manera. Por ejemplo una casa puede tener varios baños pero un baño no puede estar en varias casas, existen 2 tipos:\n",
    "\n",
    "1. Obligatorias: Como por ejemplo todo carro debe tener un motor\n",
    "\n",
    "2. Opcionales: Como por ejemplo todo carro puede tener asientos de piel de cocodrilo\n",
    "\n",
    "Y se clasifican en:\n",
    "\n",
    "**Uno a uno**\n",
    "\n",
    "Es decir, por cada instancia de la entidad 1, existe una instancia de la entidad 2, y viceversa. \n",
    "\n",
    "<p align=\"center\">\n",
    "  <img width=\"460\" height=\"300\" src=\"https://mariadb.com/kb/en/database-design-phase-2-conceptual-design/+image/many-to-many\">\n",
    "</p>\n",
    "\n",
    "\n",
    "**De uno a muchos**\n",
    "\n",
    "Es decir que una entidad 1, puedes estar asociadas a muchas entidades 2.\n",
    "\n",
    "<p align=\"center\">\n",
    "  <img width=\"460\" height=\"300\" src=\"https://mariadb.com/kb/en/database-design-phase-2-conceptual-design/+image/one_to_many\">\n",
    "</p>\n",
    "\n",
    "\n",
    "**De muchos a muchos**\n",
    "\n",
    "Son aquellas en las cuales muchas entidades 1 pueden estar relacionadas con muchas entidades 2.\n",
    "\n",
    "<p align=\"center\">\n",
    "  <img width=\"460\" height=\"300\" src=\"https://mariadb.com/kb/en/database-design-phase-2-conceptual-design/+image/one-to-one\">\n",
    "</p>\n"
   ]
  },
  {
   "cell_type": "markdown",
   "id": "northern-ranking",
   "metadata": {},
   "source": [
    "Recordemos que un modelo **entidad-relación** ilustra cómo se relacionan las entidades entre sí. El primer paso para elaborar el diagrama es identificar todas las entidades del sistema. En la fase inicial, no es necesario identificar los atributos, pero esto puede ayudar a aclarar las cosas si el diseñador no está seguro de algunas de las entidades. Al final tendriamos un diseño como el siguiente.\n",
    "\n",
    "<p align=\"center\">\n",
    "  <img width=\"460\" height=\"300\" src=\"https://upload.wikimedia.org/wikipedia/commons/thumb/f/fc/Diagrama_Entidad_Relacion.svg/800px-Diagrama_Entidad_Relacion.svg.png\">\n",
    "</p>\n",
    "\n"
   ]
  },
  {
   "cell_type": "markdown",
   "id": "worldwide-characteristic",
   "metadata": {},
   "source": [
    "#### 2.2 Diseño logico y fisico\n"
   ]
  },
  {
   "cell_type": "markdown",
   "id": "loved-panic",
   "metadata": {},
   "source": [
    "Una vez finalizado el diseño conceptual, es el momento de convertirlo en el diseño lógico y físico. En sentido estricto, el diseño lógico y el diseño físico son dos etapas distintas, pero a menudo se funden en una sola. Cada entidad se convertirá en una tabla de la base de datos, y cada atributo se convertirá en un campo de esta tabla. Como se ve en el siguiente ejemplo.\n",
    "\n",
    "<p align=\"center\">\n",
    "  <img width=\"460\" height=\"300\" src=\"https://www.ender.es/wp-content/uploads/2010/04/modelo-grupos1.png\">\n",
    "</p>\n"
   ]
  },
  {
   "cell_type": "markdown",
   "id": "associate-allergy",
   "metadata": {},
   "source": [
    "**Errores comunes**\n",
    "\n",
    "1. Mantener datos no relacionados en diferentes tablas.\n",
    "2. Guardar valores que pueden ser calculados\n",
    "3. El diseño no cumple con las especificaciones analizadas.\n",
    "4. Los atributos de las entidades fueron incorrectamente seleccionados\n",
    "5. Se crearon demasiadas relaciones.\n",
    "6. No se crearon las relacione necesarias.\n",
    "7. No se generaron todas las constantes necesarias.\n",
    "10. No se consideraron la suficiente cantidad de atributos.\n",
    "11. Se combinaron atributos que podrían ser separados.\n",
    "12. Las llaves primarias y los indices fueron incorrectamente asignados.\n",
    "\n"
   ]
  },
  {
   "cell_type": "markdown",
   "id": "legal-sullivan",
   "metadata": {},
   "source": [
    "### 3. Implementación."
   ]
  },
  {
   "cell_type": "markdown",
   "id": "crazy-seller",
   "metadata": {},
   "source": [
    "En la fase de implementación se instala un DBMS (**DataBase Management System**), luego se optimiza la base de datos y se crea, posteriormente se cargan los datos. En esta fase también se establece la seguridad de la base de datos y se da acceso a los distintos usuarios que se han identificado según sus necesidades.\n"
   ]
  },
  {
   "cell_type": "markdown",
   "id": "likely-ticket",
   "metadata": {},
   "source": [
    "### 5. Testeo"
   ]
  },
  {
   "cell_type": "markdown",
   "id": "british-ladder",
   "metadata": {},
   "source": [
    "Una vez implementada la base de datos, debe probarse esta etapa del ciclo de vida permite ajustar el sistema para obtener el mejor rendimiento. Es conveniente evaluar la base de datos, junto con las aplicaciones vinculadas. En la fase de pruebas se comprueba el rendimiento, la seguridad y la integridad de los datos.\n",
    "\n",
    "Además, hay que probar la seguridad para garantizar que los usuarios puedan acceder y modificar sólo los datos que deben. En otras palabras el testeo consiste en:\n",
    "\n",
    "1. Probar el rendimiento\n",
    "2. Probar la seguridad\n",
    "3. Probar la integridad de los datos\n",
    "4. Ajustar los parámetros o modificar los diseños lógicos o físicos en respuesta a las pruebas.\n"
   ]
  },
  {
   "cell_type": "markdown",
   "id": "systematic-twist",
   "metadata": {},
   "source": [
    "### 5. Operación"
   ]
  },
  {
   "cell_type": "markdown",
   "id": "retired-understanding",
   "metadata": {},
   "source": [
    "En esta etapa el sistema es utilizado realmente por primera vez. Los usuarios del sistema empiezan a manejarlo, a cargar datos, a leer informes, etc. En pocas palabras, esta fase consiste en:\n",
    "\n",
    "1. Entregar el funcionamiento de la base de datos a los usuarios.\n",
    "2. Realizar los cambios finales en función de los problemas descubiertos por los usuarios.\n"
   ]
  },
  {
   "cell_type": "markdown",
   "id": "auburn-ability",
   "metadata": {},
   "source": [
    "### 6. Mantenimiento"
   ]
  },
  {
   "cell_type": "markdown",
   "id": "destroyed-soundtrack",
   "metadata": {},
   "source": [
    "Luego de un tiempo como resultado de diferentes factores la base de datos satisface menos las necesidades de la organización, hasta que necesita ser reemplazado. El mantenimiento de la base de datos ese realiza debido a que cada vez se agotan más recursos.Los diseñadores rara vez consiguen que todo sea perfecto a la primera, y puede darse el caso de que la empresa solicite cambios para solucionar problemas del sistema o para recomendar mejoras o nuevos requisitos, e inclusive casos en los cuales crear una nueva base de datos iguala en recursos a mantener la actual. Las fases del mantenimiento son:\n",
    "\n",
    "1. Actualizar los índices\n",
    "2. Mantener las tablas\n",
    "3. Mantener los usuarios\n",
    "4. Cambiar las contraseñas\n",
    "5. Hacer copias de seguridad\n",
    "6. Restaurar las copias de seguridad\n",
    "7. Cambiar el diseño para cumplir con los nuevos requisitos\n",
    "\n"
   ]
  },
  {
   "cell_type": "markdown",
   "id": "integral-fleece",
   "metadata": {},
   "source": [
    "### A) Esquema E/R Dase de las bases datos Sakila"
   ]
  },
  {
   "cell_type": "markdown",
   "id": "common-strength",
   "metadata": {},
   "source": [
    "El siguiente diagrama muestra la representación del diagrama **entidad-relación para la base de datos Sakila**\n",
    "\n",
    "![SakilaE/R](./Img/sakila.png) "
   ]
  },
  {
   "cell_type": "markdown",
   "id": "selective-helen",
   "metadata": {},
   "source": [
    "El siguiente diagrama muestra la representación del diagrama **entidad-relación para la base de datos Employees**\n",
    "\n",
    "![EmployeesE/R](./Img/employees.png) "
   ]
  },
  {
   "cell_type": "markdown",
   "id": "choice-sydney",
   "metadata": {},
   "source": [
    "El siguiente diagrama muestra la representación del diagrama **entidad-relación para la base de datos world**\n",
    "\n",
    "![worldE/R](./Img/world.png) "
   ]
  },
  {
   "cell_type": "markdown",
   "id": "powered-federation",
   "metadata": {},
   "source": [
    "El siguiente diagrama muestra la representación del diagrama **entidad-relación para la base de datos world_x**\n",
    "\n",
    "![world_xE/R](./Img/world_x.png) "
   ]
  },
  {
   "cell_type": "markdown",
   "id": "tutorial-murder",
   "metadata": {},
   "source": [
    "El siguiente diagrama muestra la representación del diagrama **entidad-relación para la base de datos menagerie**\n",
    "\n",
    "![menagerieE/R](./Img/men.png) "
   ]
  },
  {
   "cell_type": "markdown",
   "id": "grateful-jewel",
   "metadata": {},
   "source": [
    "### B) Descripción de un procedimiento almacenado, un a función y un trigger. Explicar que son y para que sirven\n"
   ]
  },
  {
   "cell_type": "markdown",
   "id": "interior-message",
   "metadata": {},
   "source": [
    "**1. Porcedimiento de almacenado.** \n",
    "\n",
    "Este proceso permite preparar código de tal manera que pueda ser guardado para ser usado una y otra vez, de tal manera que baste solamente con llamarlo para ejecutarlo cuando sea necesario. Presenta la siguiente sintaxis. Consta de 2 pasos.\n",
    "\n",
    "**Paso 1. Creación del procedimiento**\n",
    "\n",
    "CREATE PROCEDURE todosLosActores\n",
    "\n",
    "AS\n",
    "\n",
    "SELECT * FROM film_actor;\n",
    "\n",
    "GO;\n",
    "\n",
    "**Paso 2. Ejecución del procedimiento**\n",
    "\n",
    "\n",
    "\n",
    "EXEC todosLosActores;\n"
   ]
  },
  {
   "cell_type": "markdown",
   "id": "binding-national",
   "metadata": {},
   "source": [
    "**2. Funciónes SQL.** \n",
    "\n",
    "Las funciones SQL permites hacer calculos sobre los datos, se dividen en **funciones Agregadas** y **funciones escalaes**"
   ]
  },
  {
   "cell_type": "markdown",
   "id": "indian-animal",
   "metadata": {},
   "source": [
    "**2.1 Funciones agregadas SQL:** \n",
    "\n",
    "Devuelven un sólo valor, calculado con los valores de una columna. Como por ejemplo el promedio de los datos.\n",
    "\n",
    "**- AVG()** - Regresa la media de los valores"
   ]
  },
  {
   "cell_type": "markdown",
   "id": "sharing-century",
   "metadata": {},
   "source": [
    "**2.2. Funciones escalares:** Devuelven un sólo valor basándose en el valor de entrada. Como por ejemplo los cada uno de los camracteres de un campo.\n",
    "\n",
    "**- MID()** - Regresa cada uno caracteres de un campo de texto\n",
    "\n"
   ]
  },
  {
   "cell_type": "markdown",
   "id": "alternate-message",
   "metadata": {},
   "source": [
    "**3. Tigers.**\n",
    "\n",
    "Los triggers o disparadores son objetos de la base de datos que ejecutan acciones cuando se producen ciertos eventos como inserciones, modificaciones, borrados, creación de tablas, etc."
   ]
  },
  {
   "cell_type": "markdown",
   "id": "recreational-mortgage",
   "metadata": {},
   "source": [
    "### C) Construir algunas consultas de ejemplo."
   ]
  },
  {
   "cell_type": "markdown",
   "id": "narrative-fortune",
   "metadata": {},
   "source": [
    "#### 1. Conexión a la base de datos"
   ]
  },
  {
   "cell_type": "code",
   "execution_count": 1,
   "id": "external-cedar",
   "metadata": {},
   "outputs": [],
   "source": [
    "## Conectandose a la Base de datos,\n",
    "\n",
    "import mysql.connector as mariadb"
   ]
  },
  {
   "cell_type": "code",
   "execution_count": 2,
   "id": "partial-respect",
   "metadata": {},
   "outputs": [],
   "source": [
    "### El módulo provee acceso a funciones y objetos mantenidos por del intérprete\n",
    "\n",
    "import sys"
   ]
  },
  {
   "cell_type": "code",
   "execution_count": 3,
   "id": "operational-leonard",
   "metadata": {},
   "outputs": [],
   "source": [
    "### crea la conexion a la base de datos\n",
    "\n",
    "try:\n",
    "    conn = mariadb.connect(\n",
    "    user=\"admin\",\n",
    "    password=\"\",\n",
    "    host=\"localhost\",\n",
    "    port=3306)\n",
    "except mariadb.Error as e:\n",
    "    print(f\"Erro connecting to MariaDB platform:{e}\")\n",
    "    sys.exit(1)\n",
    "    "
   ]
  },
  {
   "cell_type": "code",
   "execution_count": 4,
   "id": "ongoing-studio",
   "metadata": {},
   "outputs": [],
   "source": [
    "###  Creación objeto cursor para obtener resultados\n",
    "\n",
    "cur = conn.cursor()\n",
    "\n",
    "### usa la base de datos sekila\n",
    "\n",
    "cur.execute(\"USE sakila\")"
   ]
  },
  {
   "cell_type": "markdown",
   "id": "hidden-regulation",
   "metadata": {},
   "source": [
    "#### 2. Algunas consultas de ejemplo"
   ]
  },
  {
   "cell_type": "code",
   "execution_count": 5,
   "id": "tight-planning",
   "metadata": {},
   "outputs": [],
   "source": [
    "### Carga la libreria de para tabular las tablas\n",
    "\n",
    "from tabulate import tabulate"
   ]
  },
  {
   "cell_type": "code",
   "execution_count": 6,
   "id": "embedded-portrait",
   "metadata": {},
   "outputs": [
    {
     "name": "stdout",
     "output_type": "stream",
     "text": [
      "+----------------------------+\n",
      "| Tables_in_sakila           |\n",
      "+============================+\n",
      "| actor                      |\n",
      "+----------------------------+\n",
      "| actor_info                 |\n",
      "+----------------------------+\n",
      "| address                    |\n",
      "+----------------------------+\n",
      "| category                   |\n",
      "+----------------------------+\n",
      "| city                       |\n",
      "+----------------------------+\n",
      "| country                    |\n",
      "+----------------------------+\n",
      "| customer                   |\n",
      "+----------------------------+\n",
      "| customer_list              |\n",
      "+----------------------------+\n",
      "| film                       |\n",
      "+----------------------------+\n",
      "| film_actor                 |\n",
      "+----------------------------+\n",
      "| film_category              |\n",
      "+----------------------------+\n",
      "| film_list                  |\n",
      "+----------------------------+\n",
      "| film_text                  |\n",
      "+----------------------------+\n",
      "| inventory                  |\n",
      "+----------------------------+\n",
      "| language                   |\n",
      "+----------------------------+\n",
      "| nicer_but_slower_film_list |\n",
      "+----------------------------+\n",
      "| payment                    |\n",
      "+----------------------------+\n",
      "| rental                     |\n",
      "+----------------------------+\n",
      "| sales_by_film_category     |\n",
      "+----------------------------+\n",
      "| sales_by_store             |\n",
      "+----------------------------+\n",
      "| staff                      |\n",
      "+----------------------------+\n",
      "| staff_list                 |\n",
      "+----------------------------+\n",
      "| store                      |\n",
      "+----------------------------+\n"
     ]
    }
   ],
   "source": [
    "### Muestra las tablas en la base de datos sekila\n",
    "\n",
    "cur.execute(\"SHOW TABLES;\")\n",
    "\n",
    "data = cur.fetchall()\n",
    "\n",
    "headers = [\"Tables_in_sakila\"]\n",
    "\n",
    "print(tabulate(data, headers = headers, tablefmt =\"grid\"))"
   ]
  },
  {
   "cell_type": "code",
   "execution_count": 7,
   "id": "loved-inventory",
   "metadata": {},
   "outputs": [
    {
     "name": "stdout",
     "output_type": "stream",
     "text": [
      "+-------------+----------------------+--------+-------+---------------------+-------------------------------+\n",
      "| Field       | Type                 | Null   | Key   | Key                 | Dafault                       |\n",
      "+=============+======================+========+=======+=====================+===============================+\n",
      "| actor_id    | smallint(5) unsigned | NO     | PRI   |                     |                               |\n",
      "+-------------+----------------------+--------+-------+---------------------+-------------------------------+\n",
      "| film_id     | smallint(5) unsigned | NO     | PRI   |                     |                               |\n",
      "+-------------+----------------------+--------+-------+---------------------+-------------------------------+\n",
      "| last_update | timestamp            | NO     |       | current_timestamp() | on update current_timestamp() |\n",
      "+-------------+----------------------+--------+-------+---------------------+-------------------------------+\n"
     ]
    }
   ],
   "source": [
    "### Describe la tabla film_actor\n",
    "\n",
    "cur.execute(\"DESCRIBE film_actor;\")\n",
    "\n",
    "data = cur.fetchall()\n",
    "\n",
    "headers = [\"Field\", \"Type\", \"Null\", \"Key\", \"Key\", \"Dafault\", \"Extra\" ]\n",
    "\n",
    "print(tabulate(data, headers = headers, tablefmt =\"grid\"))"
   ]
  },
  {
   "cell_type": "code",
   "execution_count": 8,
   "id": "reflected-raleigh",
   "metadata": {},
   "outputs": [
    {
     "name": "stdout",
     "output_type": "stream",
     "text": [
      "+------------+-----------+---------------------+\n",
      "|   actor_id |   film_id | last_update         |\n",
      "+============+===========+=====================+\n",
      "|          1 |         1 | 2006-02-15 05:05:03 |\n",
      "+------------+-----------+---------------------+\n",
      "|          1 |        23 | 2006-02-15 05:05:03 |\n",
      "+------------+-----------+---------------------+\n",
      "|          1 |        25 | 2006-02-15 05:05:03 |\n",
      "+------------+-----------+---------------------+\n",
      "|          1 |       106 | 2006-02-15 05:05:03 |\n",
      "+------------+-----------+---------------------+\n",
      "|          1 |       140 | 2006-02-15 05:05:03 |\n",
      "+------------+-----------+---------------------+\n"
     ]
    }
   ],
   "source": [
    "### Selecciona los primeros 5 elementos de la tabla film_actor\n",
    "\n",
    "cur.execute(\"SELECT * FROM film_actor LIMIT 5;\")\n",
    "\n",
    "data = cur.fetchall()\n",
    "\n",
    "headers = [\"actor_id\", \"film_id\", \"last_update\"]\n",
    "\n",
    "print(tabulate(data, headers = headers, tablefmt =\"grid\"))\n"
   ]
  },
  {
   "cell_type": "markdown",
   "id": "frank-suggestion",
   "metadata": {},
   "source": [
    "### D) Análisis estadístico."
   ]
  },
  {
   "cell_type": "markdown",
   "id": "banned-plate",
   "metadata": {},
   "source": [
    "Para completar este punto se realizará un análisis exploratorio sobre el monto pagado por cada cliente por película alquilada."
   ]
  },
  {
   "cell_type": "markdown",
   "id": "consistent-interest",
   "metadata": {},
   "source": [
    "**1. Se cargan las librerias.**"
   ]
  },
  {
   "cell_type": "code",
   "execution_count": 9,
   "id": "sized-healing",
   "metadata": {},
   "outputs": [],
   "source": [
    "### imporación de las librerias numpy y pandas\n",
    "\n",
    "import pandas as pd\n",
    "import numpy as np"
   ]
  },
  {
   "cell_type": "markdown",
   "id": "norwegian-semester",
   "metadata": {},
   "source": [
    "**2. Se visualizan los datos de la tabla \"payment\".**"
   ]
  },
  {
   "cell_type": "code",
   "execution_count": 10,
   "id": "supported-seventh",
   "metadata": {},
   "outputs": [
    {
     "name": "stdout",
     "output_type": "stream",
     "text": [
      "+--------------+---------------+------------+-------------+----------+---------------------+---------------------+\n",
      "|   payment_id |   customer_id |   staff_id |   rental_id |   amount | payment_date        | last_update         |\n",
      "+==============+===============+============+=============+==========+=====================+=====================+\n",
      "|            1 |             1 |          1 |          76 |     2.99 | 2005-05-25 11:30:37 | 2006-02-15 22:12:30 |\n",
      "+--------------+---------------+------------+-------------+----------+---------------------+---------------------+\n",
      "|            2 |             1 |          1 |         573 |     0.99 | 2005-05-28 10:35:23 | 2006-02-15 22:12:30 |\n",
      "+--------------+---------------+------------+-------------+----------+---------------------+---------------------+\n",
      "|            3 |             1 |          1 |        1185 |     5.99 | 2005-06-15 00:54:12 | 2006-02-15 22:12:30 |\n",
      "+--------------+---------------+------------+-------------+----------+---------------------+---------------------+\n",
      "|            4 |             1 |          2 |        1422 |     0.99 | 2005-06-15 18:02:53 | 2006-02-15 22:12:30 |\n",
      "+--------------+---------------+------------+-------------+----------+---------------------+---------------------+\n",
      "|            5 |             1 |          2 |        1476 |     9.99 | 2005-06-15 21:08:46 | 2006-02-15 22:12:30 |\n",
      "+--------------+---------------+------------+-------------+----------+---------------------+---------------------+\n"
     ]
    }
   ],
   "source": [
    "\n",
    "### Visualización de datos de pago\n",
    "\n",
    "cur.execute(\"SELECT * FROM payment LIMIT 5;\")\n",
    "\n",
    "data = cur.fetchall()\n",
    "\n",
    "headers = [\"payment_id\", \"customer_id\", \"staff_id\", \"rental_id\", \"amount\", \"payment_date\",\"last_update\"]\n",
    "\n",
    "print(tabulate(data, headers = headers, tablefmt =\"grid\"))"
   ]
  },
  {
   "cell_type": "markdown",
   "id": "weighted-merchandise",
   "metadata": {},
   "source": [
    "**3. Se crea un vector el valor de los pagos**"
   ]
  },
  {
   "cell_type": "code",
   "execution_count": 11,
   "id": "whole-texas",
   "metadata": {},
   "outputs": [
    {
     "name": "stdout",
     "output_type": "stream",
     "text": [
      "[[2.99]\n",
      " [0.99]\n",
      " [5.99]\n",
      " ...\n",
      " [8.99]\n",
      " [2.99]\n",
      " [2.99]]\n"
     ]
    }
   ],
   "source": [
    "### Se crea una lista con los pago realizados por los clientes\n",
    "\n",
    "cur.execute(\"SELECT amount FROM payment;\")\n",
    "\n",
    "data = cur.fetchall()\n",
    "\n",
    "data = np.array(data)\n",
    "\n",
    "### se capturan convierten los datos a float para facilitar su procesamiento.\n",
    "\n",
    "for i in range(len(data)):\n",
    "    \n",
    "    data[i]= float(data[i])\n",
    "\n",
    "print(data)"
   ]
  },
  {
   "cell_type": "markdown",
   "id": "pressed-spring",
   "metadata": {},
   "source": [
    "**4. Calculo de la media del costo por alquiler.**"
   ]
  },
  {
   "cell_type": "code",
   "execution_count": 12,
   "id": "rocky-disabled",
   "metadata": {},
   "outputs": [
    {
     "name": "stdout",
     "output_type": "stream",
     "text": [
      "El promedio pagado por alquiler es de: 4.201\n"
     ]
    }
   ],
   "source": [
    "\n",
    "\n",
    "media = np.round(np.mean(data), 3)\n",
    "\n",
    "print(\"El promedio pagado por alquiler es de: \" + str(media))"
   ]
  },
  {
   "cell_type": "markdown",
   "id": "hourly-argument",
   "metadata": {},
   "source": [
    "**5. Se capturan el valor minimo y máximo pagado.**"
   ]
  },
  {
   "cell_type": "code",
   "execution_count": 13,
   "id": "extreme-bookmark",
   "metadata": {},
   "outputs": [
    {
     "name": "stdout",
     "output_type": "stream",
     "text": [
      "El minimo valor pagado por pelicula fue: 0.0\n",
      "El maximo valor pagado por pelicula fue: 11.99\n"
     ]
    }
   ],
   "source": [
    "### Calculo del minimo valor pagado y el maximo valor pagado\n",
    "\n",
    "minimo = np.round(float(np.min(data)), 3)\n",
    "maximo = np.round(float(np.max(data)), 3)\n",
    "\n",
    "print(\"El minimo valor pagado por pelicula fue: \" + str(minimo))\n",
    "print(\"El maximo valor pagado por pelicula fue: \" + str(maximo))"
   ]
  },
  {
   "cell_type": "markdown",
   "id": "unnecessary-document",
   "metadata": {},
   "source": [
    "**6. Visualizacion de los datos.**"
   ]
  },
  {
   "cell_type": "code",
   "execution_count": 14,
   "id": "israeli-atlas",
   "metadata": {},
   "outputs": [],
   "source": [
    "### Se carga la libreria matplotlib\n",
    "\n",
    "import matplotlib.pyplot as plt"
   ]
  },
  {
   "cell_type": "markdown",
   "id": "novel-invalid",
   "metadata": {},
   "source": [
    "**7. Construcción del histograma de pagos.**"
   ]
  },
  {
   "cell_type": "code",
   "execution_count": 15,
   "id": "dedicated-proceeding",
   "metadata": {},
   "outputs": [
    {
     "data": {
      "image/png": "[encoded data removed]",
      "text/plain": [
       "<Figure size 432x288 with 1 Axes>"
      ]
     },
     "metadata": {
      "needs_background": "light"
     },
     "output_type": "display_data"
    }
   ],
   "source": [
    "plt.hist(data, bins = 15)\n",
    "plt.title(\"Frecuencia de valores pagados\")\n",
    "plt.xlabel('Valor pagado')\n",
    "plt.ylabel('Frecuencia')\n",
    "plt.grid(axis='y', alpha=0.75)\n"
   ]
  },
  {
   "cell_type": "markdown",
   "id": "structural-monroe",
   "metadata": {},
   "source": [
    "Se observa claramente los precios usuales para el alquiler de películas rondan valores cercanos los 1,3,5 dolares con x cantidad de centavos y se puede decir los datos estan sesgados a la derecha"
   ]
  },
  {
   "cell_type": "markdown",
   "id": "ignored-physiology",
   "metadata": {},
   "source": [
    "**8. Calculo de la varianza y la sd de los valores pagados.**"
   ]
  },
  {
   "cell_type": "code",
   "execution_count": 16,
   "id": "artistic-religious",
   "metadata": {},
   "outputs": [
    {
     "name": "stdout",
     "output_type": "stream",
     "text": [
      "5.583392033951369\n"
     ]
    }
   ],
   "source": [
    "varianza = data.var()\n",
    "print(varianza)"
   ]
  },
  {
   "cell_type": "code",
   "execution_count": 17,
   "id": "animated-karaoke",
   "metadata": {},
   "outputs": [
    {
     "name": "stdout",
     "output_type": "stream",
     "text": [
      "2.3629202343607303\n"
     ]
    }
   ],
   "source": [
    "sd = data.std()\n",
    "print(sd)"
   ]
  },
  {
   "cell_type": "markdown",
   "id": "radio-villa",
   "metadata": {},
   "source": [
    "Como era de esperarse por lo visualizados en el grafico, el conjunto de datos se encuentra muy disperzo de la meSe observa claramente los precios usuales para el alquiler de películas rondan valores cercanos los 1,3,5 dolares con x cantidad de centavosdia, por lo que gran parte de las peliculas fueron alquiladas sobre 2.4 dolares por encima o por debajo de la media."
   ]
  },
  {
   "cell_type": "markdown",
   "id": "apparent-orientation",
   "metadata": {},
   "source": [
    "**9. Diagrama de cajas y bigotes.**"
   ]
  },
  {
   "cell_type": "code",
   "execution_count": 18,
   "id": "biological-homeless",
   "metadata": {},
   "outputs": [
    {
     "data": {
      "text/plain": [
       "Text(0, 0.5, 'Valor pagado')"
      ]
     },
     "execution_count": 18,
     "metadata": {},
     "output_type": "execute_result"
    },
    {
     "data": {
      "image/png": "[encoded data removed]",
      "text/plain": [
       "<Figure size 432x288 with 1 Axes>"
      ]
     },
     "metadata": {
      "needs_background": "light"
     },
     "output_type": "display_data"
    }
   ],
   "source": [
    "plt.boxplot(data)\n",
    "plt.title(\"Boxplot valores pagados\")\n",
    "plt.xlabel('Pago')\n",
    "plt.ylabel('Valor pagado')"
   ]
  },
  {
   "cell_type": "markdown",
   "id": "architectural-chase",
   "metadata": {},
   "source": [
    "Se puede ver con facilidad que los valore atipicos del pagados por el alquiler se ubican entre los 8 y los 12 dolares, que puede deberse a retrasos en la devolución de las películas"
   ]
  },
  {
   "cell_type": "code",
   "execution_count": 19,
   "id": "little-dallas",
   "metadata": {},
   "outputs": [],
   "source": [
    "from scipy.stats import kurtosis"
   ]
  },
  {
   "cell_type": "code",
   "execution_count": 20,
   "id": "controlling-eligibility",
   "metadata": {},
   "outputs": [
    {
     "name": "stdout",
     "output_type": "stream",
     "text": [
      "[-0.2599665525960364]\n"
     ]
    }
   ],
   "source": [
    "curtosis = kurtosis(data)\n",
    "print(curtosis)"
   ]
  },
  {
   "cell_type": "markdown",
   "id": "labeled-packaging",
   "metadata": {},
   "source": [
    "Gracias a la curtosis podemos ver que los datos siguen una distribución platicúrtica, es decir que su distribución es más aplanada que la curva normal"
   ]
  },
  {
   "cell_type": "markdown",
   "id": "controlled-bidder",
   "metadata": {},
   "source": [
    "#### En resumen tenemos que:"
   ]
  },
  {
   "cell_type": "code",
   "execution_count": 21,
   "id": "reasonable-judgment",
   "metadata": {},
   "outputs": [
    {
     "name": "stdout",
     "output_type": "stream",
     "text": [
      "+-------+--------+--------+----------+-------+----------+\n",
      "| Media | Minimo | Maximo | Varianza |   sd  | Curtosis |\n",
      "+-------+--------+--------+----------+-------+----------+\n",
      "| 4.201 |  0.0   | 11.99  |  5.583   | 2.363 |  -0.26   |\n",
      "+-------+--------+--------+----------+-------+----------+\n"
     ]
    }
   ],
   "source": [
    "from prettytable import PrettyTable\n",
    "\n",
    "mi_tabla = PrettyTable()\n",
    "\n",
    "mi_tabla.field_names = [\"Media\", \"Minimo\", \"Maximo\", \"Varianza\", \"sd\", \"Curtosis\"]\n",
    "mi_tabla.add_row([media, minimo, maximo, np.round(float(varianza),3), np.round(float(sd),3), np.round(float(curtosis),3)])\n",
    "\n",
    "print(mi_tabla)"
   ]
  },
  {
   "cell_type": "markdown",
   "id": "surface-austria",
   "metadata": {},
   "source": [
    "### Bibliografia"
   ]
  },
  {
   "cell_type": "markdown",
   "id": "above-airfare",
   "metadata": {},
   "source": [
    "1. Mariadb database design. [Link](https://mariadb.com/kb/en/database-design/)\n",
    "2. Database eLearning. [Link](https://db.grussell.org/section004.html)\n",
    "3. SQL Stored Procedures for SQL Server.[ Link](https://www.w3schools.com/sql/sql_stored_procedures.asp#:~:text=A%20stored%20procedure%20is%20a,call%20it%20to%20execute%20it.)\n",
    "4. Microsoft CREATE TRIGGER. [Link](https://docs.microsoft.com/es-es/sql/t-sql/statements/create-trigger-transact-sql?view=sql-server-ver15)\n",
    "5. Sakila Sample Database. [Link](https://downloads.mysql.com/docs/sakila-en.pdf)\n"
   ]
  },
  {
   "cell_type": "code",
   "execution_count": null,
   "id": "reduced-mineral",
   "metadata": {},
   "outputs": [],
   "source": []
  }
 ],
 "metadata": {
  "kernelspec": {
   "display_name": "Python 3",
   "language": "python",
   "name": "python3"
  },
  "language_info": {
   "codemirror_mode": {
    "name": "ipython",
    "version": 3
   },
   "file_extension": ".py",
   "mimetype": "text/x-python",
   "name": "python",
   "nbconvert_exporter": "python",
   "pygments_lexer": "ipython3",
   "version": "3.7.10"
  }
 },
 "nbformat": 4,
 "nbformat_minor": 5
}
