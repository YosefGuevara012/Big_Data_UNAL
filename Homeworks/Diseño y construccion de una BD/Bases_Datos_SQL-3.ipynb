{
 "cells": [
  {
   "cell_type": "markdown",
   "id": "peripheral-wisdom",
   "metadata": {
    "tags": []
   },
   "source": [
    "# <span style=\"color:green\"><center>Diplomado en Big Data</center></span>"
   ]
  },
  {
   "cell_type": "markdown",
   "id": "intellectual-confidence",
   "metadata": {},
   "source": [
    "# <span style=\"color:red\"><center>SQL -Base de datos Sakila<center></span>"
   ]
  },
  {
   "cell_type": "markdown",
   "id": "considered-beads",
   "metadata": {},
   "source": [
    "##   <span style=\"color:blue\">Profesores</span>"
   ]
  },
  {
   "cell_type": "markdown",
   "id": "endless-brother",
   "metadata": {},
   "source": [
    "1. Alvaro Mauricio Montenegro Díaz, ammontenegrod@unal.edu.co\n",
    "2. Daniel Mauricio Montenegro Reyes, dextronomo@gmail.com "
   ]
  },
  {
   "cell_type": "markdown",
   "id": "pressed-gibson",
   "metadata": {},
   "source": [
    "##   <span style=\"color:blue\">Asesora Medios y Marketing digital</span>\n",
    " "
   ]
  },
  {
   "cell_type": "markdown",
   "id": "enhanced-friend",
   "metadata": {},
   "source": [
    "4. Maria del Pilar Montenegro, pmontenegro88@gmail.com "
   ]
  },
  {
   "cell_type": "markdown",
   "id": "international-uganda",
   "metadata": {},
   "source": [
    "## <span style=\"color:blue\">Asistentes</span>"
   ]
  },
  {
   "cell_type": "markdown",
   "id": "threaded-engineering",
   "metadata": {},
   "source": []
  },
  {
   "cell_type": "markdown",
   "id": "statistical-manhattan",
   "metadata": {},
   "source": [
    "## <span style=\"color:blue\">Contenido</span>"
   ]
  },
  {
   "cell_type": "markdown",
   "id": "authentic-friendship",
   "metadata": {},
   "source": []
  },
  {
   "cell_type": "markdown",
   "id": "available-ballet",
   "metadata": {},
   "source": [
    "## <span style=\"color:blue\">Introducción</span>"
   ]
  },
  {
   "cell_type": "markdown",
   "id": "sealed-activation",
   "metadata": {},
   "source": [
    "La base de datos de muestra de Sakila fue desarrollada inicialmente por Mike Hillyer, un ex miembro del equipo de documentación de MySQL AB, y está destinada a proporcionar un esquema estándar que se puede utilizar para ejemplos en libros, tutoriales, artículos, muestras, etc. La base de datos de muestra de Sakila también sirve para resaltar características de MySQL como Vistas, Procedimientos almacenados y Disparadores."
   ]
  },
  {
   "cell_type": "markdown",
   "id": "intellectual-frontier",
   "metadata": {},
   "source": [
    "## <span style=\"color:blue\">Instalación</span>"
   ]
  },
  {
   "cell_type": "markdown",
   "id": "optimum-missouri",
   "metadata": {},
   "source": [
    "La base de datos de muestra de Sakila está disponible en[sakila download](https://dev.mysql.com/doc/index-other.html). n archivo descargable está disponible en un archivo tar comprimido o en formato Zip. El archivo comprimido contiene tres archivos:  sakila-schema.sql, sakila-data.sql, and sakila.mwb.\n",
    "\n",
    "Descarge la base Sakila en uno de los formatos TAR o ZIP."
   ]
  },
  {
   "cell_type": "markdown",
   "id": "assigned-thing",
   "metadata": {},
   "source": [
    "Sakila contiene comentarios específicos de la versión de MySQL, ya que el esquema y los datos de sakila dependen de la versión de su servidor MySQL. Por ejemplo, el servidor MySQL 5.7.5 agregó soporte para la indexación de datos espaciales a InnoDB, por lo que la tabla de direcciones incluirá una columna de ubicación con reconocimiento espacial para MySQL 5.7.5 y superior."
   ]
  },
  {
   "cell_type": "markdown",
   "id": "velvet-chase",
   "metadata": {},
   "source": [
    "El archivo sakila-schema.sql contiene todas las declaraciones CREATE necesarias para crear la estructura de la base de datos de Sakila, incluidas tablas, vistas, procedimientos almacenados y desencadenadores.\n",
    "\n",
    "El archivo sakila-data.sql contiene las instrucciones INSERT necesarias para completar la estructura creada por el archivo sakila-schema.sql, junto con las definiciones de los desencadenantes que deben crearse después de la carga de datos inicial.\n",
    "\n",
    "El archivo sakila.mwb es un modelo de datos de MySQL Workbench que puede abrir dentro de MySQL Workbench para examinar la estructura de la base de datos. Para obtener más información, consulte MySQL Workbench.\n",
    "\n",
    "Para instalar la base de datos de muestra de Sakila, siga estos pasos:"
   ]
  },
  {
   "cell_type": "markdown",
   "id": "supposed-elements",
   "metadata": {},
   "source": [
    "1. Extraiga el archivo de instalación en una ubicación temporal como C: \\ temp \\ o / tmp /. Cuando descomprime el archivo, crea un directorio llamado sakila-db que contiene los archivos sakila-schema.sql y sakila-data.sql.\n",
    "\n",
    "2. Conéctese al servidor MariaDB o MySQL desde la terminal, según sea su caso.\n"
   ]
  },
  {
   "cell_type": "code",
   "execution_count": 1,
   "id": "handed-accommodation",
   "metadata": {},
   "outputs": [
    {
     "ename": "SyntaxError",
     "evalue": "invalid syntax (<ipython-input-1-e2faacc2522e>, line 1)",
     "output_type": "error",
     "traceback": [
      "\u001b[0;36m  File \u001b[0;32m\"<ipython-input-1-e2faacc2522e>\"\u001b[0;36m, line \u001b[0;32m1\u001b[0m\n\u001b[0;31m    mysql -u root -p\u001b[0m\n\u001b[0m                ^\u001b[0m\n\u001b[0;31mSyntaxError\u001b[0m\u001b[0;31m:\u001b[0m invalid syntax\n"
     ]
    }
   ],
   "source": [
    "mysql -u root -p"
   ]
  },
  {
   "cell_type": "code",
   "execution_count": 2,
   "id": "occupied-identification",
   "metadata": {},
   "outputs": [
    {
     "ename": "SyntaxError",
     "evalue": "invalid syntax (<ipython-input-2-8e022887806c>, line 1)",
     "output_type": "error",
     "traceback": [
      "\u001b[0;36m  File \u001b[0;32m\"<ipython-input-2-8e022887806c>\"\u001b[0;36m, line \u001b[0;32m1\u001b[0m\n\u001b[0;31m    mariadb -u root -p\u001b[0m\n\u001b[0m                  ^\u001b[0m\n\u001b[0;31mSyntaxError\u001b[0m\u001b[0;31m:\u001b[0m invalid syntax\n"
     ]
    }
   ],
   "source": [
    "mariadb -u root -p"
   ]
  },
  {
   "cell_type": "markdown",
   "id": "imperial-individual",
   "metadata": {},
   "source": [
    "Ejecute el script sakila-schema.sql para crear la estructura de la base de datos y ejecute el script sakila-data.sql para completar la estructura de la base de datos, utilizando los siguientes comandos: (reemplace /temp/ por la carpeta ebn donde haya descargado y descomprimido los archivos)"
   ]
  },
  {
   "cell_type": "code",
   "execution_count": 3,
   "id": "unlike-stadium",
   "metadata": {},
   "outputs": [
    {
     "ename": "NameError",
     "evalue": "name 'SOURCE' is not defined",
     "output_type": "error",
     "traceback": [
      "\u001b[0;31m---------------------------------------------------------------------------\u001b[0m",
      "\u001b[0;31mNameError\u001b[0m                                 Traceback (most recent call last)",
      "\u001b[0;32m<ipython-input-3-c2de5b5b3ce9>\u001b[0m in \u001b[0;36m<module>\u001b[0;34m\u001b[0m\n\u001b[0;32m----> 1\u001b[0;31m \u001b[0mSOURCE\u001b[0m \u001b[0;34m/\u001b[0m\u001b[0mtemp\u001b[0m\u001b[0;34m/\u001b[0m\u001b[0msakila\u001b[0m\u001b[0;34m-\u001b[0m\u001b[0mdb\u001b[0m\u001b[0;34m/\u001b[0m\u001b[0msakila\u001b[0m\u001b[0;34m-\u001b[0m\u001b[0mschema\u001b[0m\u001b[0;34m.\u001b[0m\u001b[0msql\u001b[0m\u001b[0;34m;\u001b[0m\u001b[0;34m\u001b[0m\u001b[0;34m\u001b[0m\u001b[0m\n\u001b[0m",
      "\u001b[0;31mNameError\u001b[0m: name 'SOURCE' is not defined"
     ]
    }
   ],
   "source": [
    "SOURCE /temp/sakila-db/sakila-schema.sql;"
   ]
  },
  {
   "cell_type": "code",
   "execution_count": null,
   "id": "original-antenna",
   "metadata": {},
   "outputs": [],
   "source": [
    "SOURCE /temp/sakila-db/sakila-data.sql;"
   ]
  },
  {
   "cell_type": "markdown",
   "id": "great-brick",
   "metadata": {},
   "source": [
    "Ya estamos listos. Verifiquemos"
   ]
  },
  {
   "cell_type": "code",
   "execution_count": null,
   "id": "champion-people",
   "metadata": {},
   "outputs": [],
   "source": [
    "USE sakila;"
   ]
  },
  {
   "cell_type": "code",
   "execution_count": null,
   "id": "caroline-variance",
   "metadata": {},
   "outputs": [],
   "source": [
    "SHOW FULL TABLES;"
   ]
  },
  {
   "cell_type": "code",
   "execution_count": null,
   "id": "burning-separation",
   "metadata": {},
   "outputs": [],
   "source": [
    "SELECT COUNT(*) FROM film;"
   ]
  },
  {
   "cell_type": "code",
   "execution_count": null,
   "id": "generic-market",
   "metadata": {},
   "outputs": [],
   "source": [
    "SELECT COUNT(*) FROM film_text;"
   ]
  },
  {
   "cell_type": "markdown",
   "id": "herbal-donor",
   "metadata": {},
   "source": [
    "### Esquema de la base de datos"
   ]
  },
  {
   "cell_type": "markdown",
   "id": "interstate-rescue",
   "metadata": {},
   "source": [
    "El esquema de la base de datos se muestra en el siguiente diagrma producido por [worbench](https://www.mysql.com/products/workbench/)."
   ]
  },
  {
   "cell_type": "markdown",
   "id": "nervous-vermont",
   "metadata": {},
   "source": [
    "![Esquema sakila](../Imagenes/sakila-skema_e_r.png)"
   ]
  },
  {
   "cell_type": "markdown",
   "id": "vertical-riding",
   "metadata": {},
   "source": [
    "### Ejercicio"
   ]
  },
  {
   "cell_type": "markdown",
   "id": "brazilian-listing",
   "metadata": {},
   "source": [
    "Use [DBeaver](https://dbeaver.io/) para reproducir el diagrama."
   ]
  },
  {
   "cell_type": "markdown",
   "id": "common-march",
   "metadata": {},
   "source": [
    "### Inspección General de la base de datos"
   ]
  },
  {
   "cell_type": "markdown",
   "id": "studied-apartment",
   "metadata": {},
   "source": [
    "Revise en este enlace lso principales aspectos de la base de datos: [descripción de la base de datos](https://www3.ntu.edu.sg/home/ehchua/programming/sql/SampleDatabases.html#zz-2.)"
   ]
  },
  {
   "cell_type": "markdown",
   "id": "inside-fitness",
   "metadata": {},
   "source": [
    "### Consultando la base de datos"
   ]
  },
  {
   "cell_type": "markdown",
   "id": "massive-virtue",
   "metadata": {},
   "source": [
    "1. Lista de nombre completo de actores ordenada por appelido\n",
    "2. Número de actores por categoría del film, orden descendiente\n",
    "3. Actor qua más ventas genera por tienda (store)\n",
    "4. Ventas totales por tienda"
   ]
  },
  {
   "cell_type": "code",
   "execution_count": null,
   "id": "photographic-advocate",
   "metadata": {},
   "outputs": [],
   "source": [
    "SELECT CONCAT(s.first_name, _utf8' ',  s.last_name) AS Actor \n",
    "FROM actor as s\n",
    "order by s.last_name;"
   ]
  },
  {
   "cell_type": "code",
   "execution_count": null,
   "id": "associate-element",
   "metadata": {},
   "outputs": [],
   "source": [
    "SELECT c.name as categoria, COUNT(actor_id) AS numero_actores\n",
    "FROM category AS c\n",
    "JOIN film_category as fc ON c.category_id = fc.category_id\n",
    "JOIN film as f ON fc.film_id = f.film_id\n",
    "JOIN film_actor as fa ON f.film_id = fa.film_id\n",
    "GROUP BY categoria\n",
    "ORDER BY numero_actores DESC;"
   ]
  },
  {
   "cell_type": "code",
   "execution_count": null,
   "id": "neutral-walter",
   "metadata": {},
   "outputs": [],
   "source": [
    "SELECT  d.address as tienda,\n",
    "        CONCAT(a.first_name, _utf8' ',  a.last_name) AS actor_estrella,\n",
    "        MAX(p.amount) as valor\n",
    "FROM actor AS a\n",
    "JOIN film_actor AS fa ON a.actor_id = fa.actor_id\n",
    "JOIN film AS f ON fa.film_id = f.film_id\n",
    "JOIN inventory AS i ON f.film_id = i.film_id\n",
    "JOIN rental AS r ON i.inventory_id = r.inventory_id\n",
    "JOIN payment AS p ON r.rental_id = p.rental_id\n",
    "JOIN store AS s ON i.store_id = s.store_id\n",
    "JOIN address AS d ON s.address_id = d.address_id\n",
    "GROUP BY tienda;"
   ]
  },
  {
   "cell_type": "code",
   "execution_count": null,
   "id": "clinical-proceeding",
   "metadata": {},
   "outputs": [],
   "source": [
    "select  d.address as tienda,\n",
    "        SUM(p.amount) as valor\n",
    "from    address as d\n",
    "join    store as s on s.address_id = d.address_id\n",
    "join    inventory as i on i.store_id = s.store_id\n",
    "join    rental as r on r.inventory_id = i.inventory_id\n",
    "join    payment as p on p.rental_id = r.rental_id\n",
    "group by tienda;"
   ]
  },
  {
   "cell_type": "code",
   "execution_count": null,
   "id": "occupational-salvation",
   "metadata": {},
   "outputs": [],
   "source": [
    "\n"
   ]
  }
 ],
 "metadata": {
  "kernelspec": {
   "display_name": "Python 3",
   "language": "python",
   "name": "python3"
  },
  "language_info": {
   "codemirror_mode": {
    "name": "ipython",
    "version": 3
   },
   "file_extension": ".py",
   "mimetype": "text/x-python",
   "name": "python",
   "nbconvert_exporter": "python",
   "pygments_lexer": "ipython3",
   "version": "3.7.10"
  }
 },
 "nbformat": 4,
 "nbformat_minor": 5
}
