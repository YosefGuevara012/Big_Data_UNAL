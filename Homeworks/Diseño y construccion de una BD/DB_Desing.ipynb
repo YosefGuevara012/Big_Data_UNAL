{
 "cells": [
  {
   "cell_type": "markdown",
   "id": "sorted-reading",
   "metadata": {},
   "source": [
    "# Diseño de bases de datos"
   ]
  },
  {
   "cell_type": "markdown",
   "id": "looking-humanitarian",
   "metadata": {},
   "source": [
    "Las bases de datos existen por la necesidad de transformar los datos en información. Los datos son los hechos en bruto y sin procesar. La información se obtiene transformando los datos en algo útil. Por ejemplo, millones de nombres y números de teléfono en una guía telefónica son datos.\n",
    "\n",
    "Información es el número de teléfono de los bomberos cuando tu casa se está quemando. Una base de datos es un gran repositorio de hechos, diseñado de tal manera que el procesamiento de los hechos en información es fácil. Si la guía telefónica estuviera estructurada de una manera menos conveniente, como por ejemplo con nombres y números colocados en orden cronológico según la fecha de emisión de los números, convertir los datos en información sería mucho más difícil."
   ]
  },
  {
   "cell_type": "markdown",
   "id": "robust-marble",
   "metadata": {},
   "source": [
    "## 1. Ciclo de vida de una Base de datos"
   ]
  },
  {
   "cell_type": "markdown",
   "id": "decreased-economics",
   "metadata": {},
   "source": [
    "Incluso la base de datos más exitosa es sustituida en algún momento por otra estructura más flexible y actualizada, y así comienza una nueva vida. Aunque las definiciones exactas difieren, en general hay seis etapas del ciclo de vida de las bases de datos."
   ]
  },
  {
   "cell_type": "markdown",
   "id": "hazardous-ecuador",
   "metadata": {
    "tags": []
   },
   "source": [
    "1. Analisis\n",
    "2. Diseño\n",
    "3. Implementación\n",
    "4. Testeo\n",
    "5. Operación\n",
    "6. Mantenimiento"
   ]
  },
  {
   "cell_type": "markdown",
   "id": "ceramic-notice",
   "metadata": {},
   "source": [
    "<p align=\"center\">\n",
    "  <img width=\"460\" height=\"300\" src=\"https://db.grussell.org/co22001%20notes_files/image023.gif\">\n",
    "</p>\n"
   ]
  },
  {
   "cell_type": "markdown",
   "id": "stuffed-harmony",
   "metadata": {},
   "source": [
    "### 1. Analisis"
   ]
  },
  {
   "cell_type": "markdown",
   "id": "opening-brisbane",
   "metadata": {},
   "source": [
    "Antes de proceder con un analisis es importante entender que cada entidad debe poseer un tipo diseño diferente pues este deiseño debe ajsutarse a sus necesidades es decir que un Banco no tendra un diseño igual que el de una ensambladora de autos, es decir que una solución no puede implementarse para distintas organizaciones. Entender la estructura de negociode una organización y sus productors permite identificar los ejes fundamentales sobre los que se basara el diseño Hay que interrogar a los diferentes actores, ya que cada uno puede aportar nuevos conocimientos sobre lo que puede Cada entidad esta relacionada entre si con otra de determinada manera. Por ejemplo una casa puede tener varios baños pero un baño no puede estar en varias casas:\n",
    "Cada entidad esta relacionada entre si con otra de determinada manera. Por ejemplo una casa puede tener varios baños pero un baño no puede estar en varias casas:\n",
    "nformación quiere almacenar específicamente la empresa y qué quiere calcular."
   ]
  },
  {
   "cell_type": "markdown",
   "id": "closed-alexandria",
   "metadata": {},
   "source": [
    "### 2. Diseño"
   ]
  },
  {
   "cell_type": "markdown",
   "id": "norwegian-parker",
   "metadata": {},
   "source": [
    "Esta conformado por 3 partes el diseño conceptual, lógico y físico para llevar las especificaciones a diseños físicos implementables. se preguntan cosas como (\"¿Qué datos se necesitan? ¿Cuáles son los problemas que hay que resolver?\") se sustituyen por las preguntas sobre el cómo (\"¿Cómo se van a estructurar los datos? ¿Cómo se va a acceder a ellos?\")"
   ]
  },
  {
   "cell_type": "markdown",
   "id": "speaking-asthma",
   "metadata": {},
   "source": [
    "#### 2.1.Diseño conceptual"
   ]
  },
  {
   "cell_type": "markdown",
   "id": "dimensional-lafayette",
   "metadata": {},
   "source": [
    "Es comúnmente llamado modelo **entidad relación**. En está fase utilizamos esquemas que representan mediante diagramas **entidades** como usuarios, empleados, coches y los **atributos**, es decir cada una de las características que las componen, como fechas, datos numéricos, caracteres, etc."
   ]
  },
  {
   "cell_type": "markdown",
   "id": "charming-fifteen",
   "metadata": {},
   "source": [
    "**Entidades**\n",
    "\n",
    "Representan cosas u objetos (reales o abstractos, que se diferencian claramente entre sí.\n",
    "\n",
    "<p align=\"center\">\n",
    "  <img width=\"460\" height=\"300\" src=\"https://i.blogs.es/d1b3c7/entidades/650_1200.png\">\n",
    "</p>\n"
   ]
  },
  {
   "cell_type": "markdown",
   "id": "documentary-horse",
   "metadata": {},
   "source": [
    "**Atributos**\n",
    "\n",
    "Los atributos definen o identifican las características de entidad.\n",
    "\n",
    "<p align=\"center\">\n",
    "  <img width=\"200\" height=\"300\" src=\"https://i.blogs.es/fc15c0/atributos/650_1200.png\">\n",
    "</p>"
   ]
  },
  {
   "cell_type": "markdown",
   "id": "alternative-reputation",
   "metadata": {},
   "source": [
    "**Relaciones**\n",
    "\n",
    "Cada entidad esta relacionada entre si con otra de determinada manera. Por ejemplo una casa puede tener varios baños pero un baño no puede estar en varias casas, existen 2 tipos:\n",
    "\n",
    "1. Obligatorias: Como por ejemplo todo carro debe tener un motor\n",
    "\n",
    "2. Opcionales: Como por ejemplo todo carro puede tener asientos de piel de cocodrilo\n",
    "\n",
    "Y se clasifican en:\n",
    "\n",
    "**Uno a uno**\n",
    "\n",
    "Es decir, por cada instancia de la entidad 1, existe una instancia de la entidad 2, y viceversa. \n",
    "\n",
    "<p align=\"center\">\n",
    "  <img width=\"460\" height=\"300\" src=\"https://mariadb.com/kb/en/database-design-phase-2-conceptual-design/+image/many-to-many\">\n",
    "</p>\n",
    "\n",
    "\n",
    "**De uno a muchos**\n",
    "\n",
    "Es decir que una entidad 1, puedes estar asociadas a muchas entidades 2.\n",
    "\n",
    "<p align=\"center\">\n",
    "  <img width=\"460\" height=\"300\" src=\"https://mariadb.com/kb/en/database-design-phase-2-conceptual-design/+image/one_to_many\">\n",
    "</p>\n",
    "\n",
    "\n",
    "**De muchos a muchos**\n",
    "\n",
    "Son aquellas en las cuales muchas entidades 1 pueden estar relacionadas con muchas entidades 2.\n",
    "\n",
    "<p align=\"center\">\n",
    "  <img width=\"460\" height=\"300\" src=\"https://mariadb.com/kb/en/database-design-phase-2-conceptual-design/+image/one-to-one\">\n",
    "</p>\n"
   ]
  },
  {
   "cell_type": "markdown",
   "id": "italic-steam",
   "metadata": {},
   "source": [
    "Recordemos que un modelo **entidad-relación** ilustra cómo se relacionan las entidades entre sí. El primer paso para elaborar el diagrama es identificar todas las entidades del sistema. En la fase inicial, no es necesario identificar los atributos, pero esto puede ayudar a aclarar las cosas si el diseñador no está seguro de algunas de las entidades. Al final tendriamos un diseño como el siguiente.\n",
    "\n",
    "<p align=\"center\">\n",
    "  <img width=\"460\" height=\"300\" src=\"https://upload.wikimedia.org/wikipedia/commons/thumb/f/fc/Diagrama_Entidad_Relacion.svg/800px-Diagrama_Entidad_Relacion.svg.png\">\n",
    "</p>\n",
    "\n"
   ]
  },
  {
   "cell_type": "markdown",
   "id": "eight-mobility",
   "metadata": {},
   "source": [
    "#### 2.2 Diseño logico y fisico\n"
   ]
  },
  {
   "cell_type": "markdown",
   "id": "automated-elimination",
   "metadata": {},
   "source": [
    "Una vez finalizado el diseño conceptual, es el momento de convertirlo en el diseño lógico y físico. En sentido estricto, el diseño lógico y el diseño físico son dos etapas distintas, pero a menudo se funden en una sola. Cada entidad se convertirá en una tabla de la base de datos, y cada atributo se convertirá en un campo de esta tabla. Como se ve en el siguiente ejemplo.\n",
    "\n",
    "<p align=\"center\">\n",
    "  <img width=\"460\" height=\"300\" src=\"https://www.ender.es/wp-content/uploads/2010/04/modelo-grupos1.png\">\n",
    "</p>\n"
   ]
  },
  {
   "cell_type": "markdown",
   "id": "emerging-timothy",
   "metadata": {},
   "source": [
    "**Errores comunes**\n",
    "\n",
    "1. Mantener datos no relacionados en diferentes tablas.\n",
    "2. Guardar valores que pueden ser calculados\n",
    "3. El diseño no cumple con las especificaciones analizadas.\n",
    "4. Los atributos de las entidades fueron incorrectamente seleccionados\n",
    "5. Se crearon demasiadas relaciones.\n",
    "6. No se crearon las relacione necesarias.\n",
    "7. No se generaron todas las constantes necesarias.\n",
    "10. No se consideraron la suficiente cantidad de atributos.\n",
    "11. Se combinaron atributos que podrían ser separados.\n",
    "12. Las llaves primarias y los indices fueron incorrectamente asignados.\n",
    "\n"
   ]
  },
  {
   "cell_type": "markdown",
   "id": "cardiovascular-fiber",
   "metadata": {},
   "source": [
    "### 3. Implementación."
   ]
  },
  {
   "cell_type": "markdown",
   "id": "immune-provider",
   "metadata": {},
   "source": [
    "En la fase de implementación se instala un DBMS (**DataBase Management System**), luego se optimiza la base de datos y se crea, posteriormente se cargan los datos. En esta fase también se establece la seguridad de la base de datos y se da acceso a los distintos usuarios que se han identificado según sus necesidades.\n"
   ]
  },
  {
   "cell_type": "markdown",
   "id": "voluntary-mother",
   "metadata": {},
   "source": [
    "### 5. Testeo"
   ]
  },
  {
   "cell_type": "markdown",
   "id": "negative-stock",
   "metadata": {},
   "source": [
    "Una vez implementada la base de datos, debe probarse esta etapa del ciclo de vida permite ajustar el sistema para obtener el mejor rendimiento. Es conveniente evaluar la base de datos, junto con las aplicaciones vinculadas. En la fase de pruebas se comprueba el rendimiento, la seguridad y la integridad de los datos.\n",
    "\n",
    "Además, hay que probar la seguridad para garantizar que los usuarios puedan acceder y modificar sólo los datos que deben. En otras palabras el testeo consiste en:\n",
    "\n",
    "1. Probar el rendimiento\n",
    "2. Probar la seguridad\n",
    "3. Probar la integridad de los datos\n",
    "4. Ajustar los parámetros o modificar los diseños lógicos o físicos en respuesta a las pruebas.\n"
   ]
  },
  {
   "cell_type": "markdown",
   "id": "thirty-crime",
   "metadata": {},
   "source": [
    "### 5. Operación"
   ]
  },
  {
   "cell_type": "markdown",
   "id": "infrared-inclusion",
   "metadata": {},
   "source": [
    "En esta etapa el sistema es utilizado realmente por primera vez. Los usuarios del sistema empiezan a manejarlo, a cargar datos, a leer informes, etc. En pocas palabras, esta fase consiste en:\n",
    "\n",
    "1. Entregar el funcionamiento de la base de datos a los usuarios.\n",
    "2. Realizar los cambios finales en función de los problemas descubiertos por los usuarios.\n"
   ]
  },
  {
   "cell_type": "markdown",
   "id": "usual-penguin",
   "metadata": {},
   "source": [
    "### 6. Mantenimiento"
   ]
  },
  {
   "cell_type": "markdown",
   "id": "closing-database",
   "metadata": {},
   "source": [
    "Luego de un tiempo como resultado de diferentes factores la base de datos satisface menos las necesidades de la organización, hasta que necesita ser reemplazado. El mantenimiento de la base de datos ese realiza debido a que cada vez se agotan más recursos.Los diseñadores rara vez consiguen que todo sea perfecto a la primera, y puede darse el caso de que la empresa solicite cambios para solucionar problemas del sistema o para recomendar mejoras o nuevos requisitos, e inclusive casos en los cuales crear una nueva base de datos iguala en recursos a mantener la actual. Las fases del mantenimiento son:\n",
    "\n",
    "1. Actualizar los índices\n",
    "2. Mantener las tablas\n",
    "3. Mantener los usuarios\n",
    "4. Cambiar las contraseñas\n",
    "5. Hacer copias de seguridad\n",
    "6. Restaurar las copias de seguridad\n",
    "7. Cambiar el diseño para cumplir con los nuevos requisitos\n",
    "\n"
   ]
  }
 ],
 "metadata": {
  "kernelspec": {
   "display_name": "Python 3",
   "language": "python",
   "name": "python3"
  },
  "language_info": {
   "codemirror_mode": {
    "name": "ipython",
    "version": 3
   },
   "file_extension": ".py",
   "mimetype": "text/x-python",
   "name": "python",
   "nbconvert_exporter": "python",
   "pygments_lexer": "ipython3",
   "version": "3.7.10"
  }
 },
 "nbformat": 4,
 "nbformat_minor": 5
}
