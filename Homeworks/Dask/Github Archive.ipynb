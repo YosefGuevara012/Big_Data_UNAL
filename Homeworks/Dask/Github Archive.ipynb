{
 "cells": [
  {
   "cell_type": "markdown",
   "metadata": {},
   "source": [
    "# Github Archive"
   ]
  },
  {
   "cell_type": "markdown",
   "metadata": {},
   "source": [
    "Presentado por: Yosef Guevara Salamanca"
   ]
  },
  {
   "cell_type": "markdown",
   "metadata": {},
   "source": [
    "\n",
    "## Ejercicio\n",
    "\n",
    "Every public github event for the last few years stored as gzip compressed line-delimited JSON data. Watch out, the schema switches at the 2014-2015 transition.\n",
    "\n",
    "[Download link](https://www.githubarchive.org/)\n",
    "\n",
    "**Try the following:**\n",
    "\n",
    "1. Use dask.bag to inspect the data\n",
    "2. Drill down using functions like pluck and filter\n",
    "3. Find who the most popular committers were in 2015"
   ]
  },
  {
   "cell_type": "markdown",
   "metadata": {},
   "source": [
    "## 1. Use dask.bag to inspect the data"
   ]
  },
  {
   "cell_type": "code",
   "execution_count": 1,
   "metadata": {},
   "outputs": [],
   "source": [
    "# Librerias necesarias\n",
    "\n",
    "import dask.bag as db\n",
    "import json\n",
    "import numpy as np\n",
    "import pandas as pd\n",
    "import aiohttp\n",
    "import requests"
   ]
  },
  {
   "cell_type": "code",
   "execution_count": 2,
   "metadata": {},
   "outputs": [
    {
     "data": {
      "text/plain": [
       "dask.bag<loads, npartitions=1>"
      ]
     },
     "execution_count": 2,
     "metadata": {},
     "output_type": "execute_result"
    }
   ],
   "source": [
    "# Se crea un Dask bag llamado \"git\"\n",
    "\n",
    "git = db.read_text('https://data.gharchive.org/2015-01-01-15.json.gz').map(json.loads)\n",
    "git"
   ]
  },
  {
   "cell_type": "code",
   "execution_count": 3,
   "metadata": {},
   "outputs": [
    {
     "data": {
      "text/plain": [
       "dask.bag.core.Bag"
      ]
     },
     "execution_count": 3,
     "metadata": {},
     "output_type": "execute_result"
    }
   ],
   "source": [
    "# Muestra tipo de objeyo que es la varaible git\n",
    "\n",
    "type(git)"
   ]
  },
  {
   "cell_type": "code",
   "execution_count": 4,
   "metadata": {},
   "outputs": [
    {
     "data": {
      "text/plain": [
       "({'id': '2489651045',\n",
       "  'type': 'CreateEvent',\n",
       "  'actor': {'id': 665991,\n",
       "   'login': 'petroav',\n",
       "   'gravatar_id': '',\n",
       "   'url': 'https://api.github.com/users/petroav',\n",
       "   'avatar_url': 'https://avatars.githubusercontent.com/u/665991?'},\n",
       "  'repo': {'id': 28688495,\n",
       "   'name': 'petroav/6.828',\n",
       "   'url': 'https://api.github.com/repos/petroav/6.828'},\n",
       "  'payload': {'ref': 'master',\n",
       "   'ref_type': 'branch',\n",
       "   'master_branch': 'master',\n",
       "   'description': \"Solution to homework and assignments from MIT's 6.828 (Operating Systems Engineering). Done in my spare time.\",\n",
       "   'pusher_type': 'user'},\n",
       "  'public': True,\n",
       "  'created_at': '2015-01-01T15:00:00Z'},\n",
       " {'id': '2489651051',\n",
       "  'type': 'PushEvent',\n",
       "  'actor': {'id': 3854017,\n",
       "   'login': 'rspt',\n",
       "   'gravatar_id': '',\n",
       "   'url': 'https://api.github.com/users/rspt',\n",
       "   'avatar_url': 'https://avatars.githubusercontent.com/u/3854017?'},\n",
       "  'repo': {'id': 28671719,\n",
       "   'name': 'rspt/rspt-theme',\n",
       "   'url': 'https://api.github.com/repos/rspt/rspt-theme'},\n",
       "  'payload': {'push_id': 536863970,\n",
       "   'size': 1,\n",
       "   'distinct_size': 1,\n",
       "   'ref': 'refs/heads/master',\n",
       "   'head': '6b089eb4a43f728f0a594388092f480f2ecacfcd',\n",
       "   'before': '437c03652caa0bc4a7554b18d5c0a394c2f3d326',\n",
       "   'commits': [{'sha': '6b089eb4a43f728f0a594388092f480f2ecacfcd',\n",
       "     'author': {'email': '5c682c2d1ec4073e277f9ba9f4bdf07e5794dabe@rspt.ch',\n",
       "      'name': 'rspt'},\n",
       "     'message': 'Fix main header height on mobile',\n",
       "     'distinct': True,\n",
       "     'url': 'https://api.github.com/repos/rspt/rspt-theme/commits/6b089eb4a43f728f0a594388092f480f2ecacfcd'}]},\n",
       "  'public': True,\n",
       "  'created_at': '2015-01-01T15:00:01Z'})"
      ]
     },
     "execution_count": 4,
     "metadata": {},
     "output_type": "execute_result"
    }
   ],
   "source": [
    "# Se toman 2 objetos dentro de la bolsa y se visualizan\n",
    "\n",
    "git.take(2)"
   ]
  },
  {
   "cell_type": "code",
   "execution_count": 5,
   "metadata": {},
   "outputs": [
    {
     "data": {
      "text/plain": [
       "11351"
      ]
     },
     "execution_count": 5,
     "metadata": {},
     "output_type": "execute_result"
    }
   ],
   "source": [
    "# Se visualiza el tañamo de la bolsa\n",
    "\n",
    "tamaño = git.count()\n",
    "tamaño.compute()"
   ]
  },
  {
   "cell_type": "markdown",
   "metadata": {},
   "source": [
    "## 2. Drill down using functions like pluck and filter"
   ]
  },
  {
   "cell_type": "markdown",
   "metadata": {},
   "source": [
    "Aplicación de la función de filtrado"
   ]
  },
  {
   "cell_type": "code",
   "execution_count": 6,
   "metadata": {},
   "outputs": [
    {
     "data": {
      "text/plain": [
       "5815"
      ]
     },
     "execution_count": 6,
     "metadata": {},
     "output_type": "execute_result"
    }
   ],
   "source": [
    "# Muestra la cantidad de eventos Push generados en todo el DataSet\n",
    "\n",
    "git.filter(lambda record: record['type'] == 'PushEvent').count().compute()"
   ]
  },
  {
   "cell_type": "code",
   "execution_count": 7,
   "metadata": {},
   "outputs": [
    {
     "data": {
      "text/plain": [
       "1471"
      ]
     },
     "execution_count": 7,
     "metadata": {},
     "output_type": "execute_result"
    }
   ],
   "source": [
    "# Muestra la cantidad de repositorios creados\n",
    "\n",
    "git.filter(lambda record: record['type'] == 'CreateEvent').count().compute()"
   ]
  },
  {
   "cell_type": "code",
   "execution_count": 8,
   "metadata": {},
   "outputs": [
    {
     "data": {
      "text/plain": [
       "2"
      ]
     },
     "execution_count": 8,
     "metadata": {},
     "output_type": "execute_result"
    }
   ],
   "source": [
    "# Muestra la cantidad de repositorios creados en la fecha 2015-01-01T15:00:01Z\n",
    "\n",
    "git.filter(lambda record: record['created_at'] == '2015-01-01T15:00:01Z').count().compute()"
   ]
  },
  {
   "cell_type": "code",
   "execution_count": 9,
   "metadata": {},
   "outputs": [
    {
     "data": {
      "text/plain": [
       "11351"
      ]
     },
     "execution_count": 9,
     "metadata": {},
     "output_type": "execute_result"
    }
   ],
   "source": [
    "# Muestra la cantidad de repositorios privados del dataset\n",
    "\n",
    "git.filter(lambda record: record['public'] == True).count().compute()"
   ]
  },
  {
   "cell_type": "markdown",
   "metadata": {},
   "source": [
    "Aplicación de la función de pluck"
   ]
  },
  {
   "cell_type": "code",
   "execution_count": 10,
   "metadata": {},
   "outputs": [
    {
     "data": {
      "text/plain": [
       "['2489651045',\n",
       " '2489651051',\n",
       " '2489651053',\n",
       " '2489651057',\n",
       " '2489651062',\n",
       " '2489651063',\n",
       " '2489651064',\n",
       " '2489651066',\n",
       " '2489651067',\n",
       " '2489651071']"
      ]
     },
     "execution_count": 10,
     "metadata": {},
     "output_type": "execute_result"
    }
   ],
   "source": [
    "# Crea una lista con 10 id de repositorios\n",
    "\n",
    "list(git.pluck('id').take(10))"
   ]
  },
  {
   "cell_type": "code",
   "execution_count": 11,
   "metadata": {},
   "outputs": [
    {
     "data": {
      "text/plain": [
       "([{'sha': '6b089eb4a43f728f0a594388092f480f2ecacfcd',\n",
       "   'author': {'email': '5c682c2d1ec4073e277f9ba9f4bdf07e5794dabe@rspt.ch',\n",
       "    'name': 'rspt'},\n",
       "   'message': 'Fix main header height on mobile',\n",
       "   'distinct': True,\n",
       "   'url': 'https://api.github.com/repos/rspt/rspt-theme/commits/6b089eb4a43f728f0a594388092f480f2ecacfcd'}],)"
      ]
     },
     "execution_count": 11,
     "metadata": {},
     "output_type": "execute_result"
    }
   ],
   "source": [
    "# Muestra unos de los commits del repo 2489651051\n",
    "\n",
    "git.filter(lambda record: record['id'] == '2489651051').pluck('payload').pluck('commits').take(1)"
   ]
  },
  {
   "cell_type": "markdown",
   "metadata": {},
   "source": [
    "## 3. Find who the most popular committers were in 2015"
   ]
  },
  {
   "cell_type": "code",
   "execution_count": 12,
   "metadata": {},
   "outputs": [],
   "source": [
    "# Se hace un llamado a la libreria RegEx para encontrar los patrones\n",
    "\n",
    "import re"
   ]
  },
  {
   "cell_type": "code",
   "execution_count": 13,
   "metadata": {},
   "outputs": [
    {
     "data": {
      "text/plain": [
       "\"('petroav/6.828',)\""
      ]
     },
     "execution_count": 13,
     "metadata": {},
     "output_type": "execute_result"
    }
   ],
   "source": [
    "# Se verifica la estructura del usuario\n",
    "\n",
    "str(git.pluck('repo').pluck('name').take(1))"
   ]
  },
  {
   "cell_type": "code",
   "execution_count": 14,
   "metadata": {},
   "outputs": [],
   "source": [
    "# Se crea una función para identificar el patrón de los nombres de usuarios\n",
    "\n",
    "userRegEx = re.compile(r'(\\w+\\S*)+\\/')"
   ]
  },
  {
   "cell_type": "code",
   "execution_count": 15,
   "metadata": {},
   "outputs": [
    {
     "name": "stdout",
     "output_type": "stream",
     "text": [
      "petroav/\n"
     ]
    }
   ],
   "source": [
    "mo = userRegEx.search(str(git.pluck('repo').pluck('name').take(1)))\n",
    "print(mo.group())"
   ]
  },
  {
   "cell_type": "code",
   "execution_count": 16,
   "metadata": {},
   "outputs": [
    {
     "data": {
      "text/plain": [
       "['petroav',\n",
       " 'rspt',\n",
       " 'izuzero',\n",
       " 'visionmedia',\n",
       " 'winterbe',\n",
       " 'hermanwahyudi',\n",
       " 'jdilt',\n",
       " 'sundaymtn',\n",
       " 'zhouzhi2015',\n",
       " 'petrkutalek',\n",
       " 'caleb-eades',\n",
       " 'phpsysinfo']"
      ]
     },
     "execution_count": 16,
     "metadata": {},
     "output_type": "execute_result"
    }
   ],
   "source": [
    "# Se incializa una lista en blanco para los nombres de los usuarios\n",
    "user_list =  str(git.pluck('repo').pluck('name').take(12))\n",
    "user_list = userRegEx.findall(user_list)\n",
    "user_list"
   ]
  },
  {
   "cell_type": "code",
   "execution_count": 17,
   "metadata": {},
   "outputs": [
    {
     "data": {
      "text/plain": [
       "('petroav/6.828',\n",
       " 'rspt/rspt-theme',\n",
       " 'izuzero/xe-module-ajaxboard',\n",
       " 'visionmedia/debug',\n",
       " 'winterbe/streamjs',\n",
       " 'hermanwahyudi/selenium',\n",
       " 'jdilt/jdilt.github.io',\n",
       " 'sundaymtn/waterline',\n",
       " 'zhouzhi2015/temp',\n",
       " 'petrkutalek/png2pos',\n",
       " 'caleb-eades/MinecraftServers',\n",
       " 'phpsysinfo/phpsysinfo',\n",
       " 'wasabeef/awesome-android-libraries')"
      ]
     },
     "execution_count": 17,
     "metadata": {},
     "output_type": "execute_result"
    }
   ],
   "source": [
    "git.pluck('repo').pluck('name').take(13)"
   ]
  },
  {
   "cell_type": "markdown",
   "metadata": {},
   "source": [
    "**Nota:** Por alguna razón el metodo recurrente falla para el usuario numero 13, por lo que se decide exportar todos los usuarios via .csv"
   ]
  },
  {
   "cell_type": "code",
   "execution_count": 18,
   "metadata": {},
   "outputs": [],
   "source": [
    "## Se crea una variable user_list que contiene todos los usuarios\n",
    "\n",
    "user_list = git.pluck('repo').pluck('name').take(11351)"
   ]
  },
  {
   "cell_type": "code",
   "execution_count": 19,
   "metadata": {},
   "outputs": [],
   "source": [
    "## Se extraen los usuarios mediante un archivo csv\n",
    "\n",
    "df = pd.DataFrame(user_list) \n",
    "df.to_csv('user_list.csv')"
   ]
  },
  {
   "cell_type": "markdown",
   "metadata": {},
   "source": [
    "### 3.1 Lecutra del archivo csv de usuarios\n",
    "\n",
    "Se limpio el archivo **.csv** extraido anteriormente y se han creado 2 columnas una para los usuarios y otra para los repositorios seperadas por el simbolo **/**."
   ]
  },
  {
   "cell_type": "code",
   "execution_count": 45,
   "metadata": {
    "scrolled": false
   },
   "outputs": [
    {
     "data": {
      "text/html": [
       "<div>\n",
       "<style scoped>\n",
       "    .dataframe tbody tr th:only-of-type {\n",
       "        vertical-align: middle;\n",
       "    }\n",
       "\n",
       "    .dataframe tbody tr th {\n",
       "        vertical-align: top;\n",
       "    }\n",
       "\n",
       "    .dataframe thead th {\n",
       "        text-align: right;\n",
       "    }\n",
       "</style>\n",
       "<table border=\"1\" class=\"dataframe\">\n",
       "  <thead>\n",
       "    <tr style=\"text-align: right;\">\n",
       "      <th></th>\n",
       "      <th>users</th>\n",
       "      <th>repository</th>\n",
       "    </tr>\n",
       "  </thead>\n",
       "  <tbody>\n",
       "    <tr>\n",
       "      <th>0</th>\n",
       "      <td>petroav</td>\n",
       "      <td>6.828</td>\n",
       "    </tr>\n",
       "    <tr>\n",
       "      <th>1</th>\n",
       "      <td>rspt</td>\n",
       "      <td>rspt-theme</td>\n",
       "    </tr>\n",
       "    <tr>\n",
       "      <th>2</th>\n",
       "      <td>izuzero</td>\n",
       "      <td>xe-module-ajaxboard</td>\n",
       "    </tr>\n",
       "    <tr>\n",
       "      <th>3</th>\n",
       "      <td>visionmedia</td>\n",
       "      <td>debug</td>\n",
       "    </tr>\n",
       "    <tr>\n",
       "      <th>4</th>\n",
       "      <td>winterbe</td>\n",
       "      <td>streamjs</td>\n",
       "    </tr>\n",
       "  </tbody>\n",
       "</table>\n",
       "</div>"
      ],
      "text/plain": [
       "         users           repository\n",
       "0      petroav                6.828\n",
       "1         rspt           rspt-theme\n",
       "2      izuzero  xe-module-ajaxboard\n",
       "3  visionmedia                debug\n",
       "4     winterbe             streamjs"
      ]
     },
     "execution_count": 45,
     "metadata": {},
     "output_type": "execute_result"
    }
   ],
   "source": [
    "## Visulización del archivo con los usuarios\n",
    "\n",
    "users = pd.read_csv('users.csv')\n",
    "users.head()"
   ]
  },
  {
   "cell_type": "code",
   "execution_count": 44,
   "metadata": {
    "scrolled": true
   },
   "outputs": [
    {
     "data": {
      "text/html": [
       "<div>\n",
       "<style scoped>\n",
       "    .dataframe tbody tr th:only-of-type {\n",
       "        vertical-align: middle;\n",
       "    }\n",
       "\n",
       "    .dataframe tbody tr th {\n",
       "        vertical-align: top;\n",
       "    }\n",
       "\n",
       "    .dataframe thead th {\n",
       "        text-align: right;\n",
       "    }\n",
       "</style>\n",
       "<table border=\"1\" class=\"dataframe\">\n",
       "  <thead>\n",
       "    <tr style=\"text-align: right;\">\n",
       "      <th></th>\n",
       "      <th>repository</th>\n",
       "    </tr>\n",
       "    <tr>\n",
       "      <th>users</th>\n",
       "      <th></th>\n",
       "    </tr>\n",
       "  </thead>\n",
       "  <tbody>\n",
       "    <tr>\n",
       "      <th>06wj</th>\n",
       "      <td>2</td>\n",
       "    </tr>\n",
       "    <tr>\n",
       "      <th>0ran9e</th>\n",
       "      <td>3</td>\n",
       "    </tr>\n",
       "    <tr>\n",
       "      <th>0x73</th>\n",
       "      <td>1</td>\n",
       "    </tr>\n",
       "    <tr>\n",
       "      <th>1060NetKernel</th>\n",
       "      <td>1</td>\n",
       "    </tr>\n",
       "    <tr>\n",
       "      <th>18F</th>\n",
       "      <td>1</td>\n",
       "    </tr>\n",
       "    <tr>\n",
       "      <th>...</th>\n",
       "      <td>...</td>\n",
       "    </tr>\n",
       "    <tr>\n",
       "      <th>zyanguml</th>\n",
       "      <td>2</td>\n",
       "    </tr>\n",
       "    <tr>\n",
       "      <th>zz85</th>\n",
       "      <td>3</td>\n",
       "    </tr>\n",
       "    <tr>\n",
       "      <th>zz9pzza</th>\n",
       "      <td>1</td>\n",
       "    </tr>\n",
       "    <tr>\n",
       "      <th>zzsme</th>\n",
       "      <td>3</td>\n",
       "    </tr>\n",
       "    <tr>\n",
       "      <th>zzzeek</th>\n",
       "      <td>1</td>\n",
       "    </tr>\n",
       "  </tbody>\n",
       "</table>\n",
       "<p>5322 rows × 1 columns</p>\n",
       "</div>"
      ],
      "text/plain": [
       "               repository\n",
       "users                    \n",
       "06wj                    2\n",
       "0ran9e                  3\n",
       "0x73                    1\n",
       "1060NetKernel           1\n",
       "18F                     1\n",
       "...                   ...\n",
       "zyanguml                2\n",
       "zz85                    3\n",
       "zz9pzza                 1\n",
       "zzsme                   3\n",
       "zzzeek                  1\n",
       "\n",
       "[5322 rows x 1 columns]"
      ]
     },
     "execution_count": 44,
     "metadata": {},
     "output_type": "execute_result"
    }
   ],
   "source": [
    "## Se agrupan los usuarios y se cuenta dela frecuencia de cada uno de ellos\n",
    "\"\"\"\n",
    "La columna repository cuenta la frecuencia en la que se repite cada usuario \n",
    "y no el numero de repositorios\n",
    "\n",
    "\"\"\"\n",
    "\n",
    "freq = users.groupby(['users']).count() \n",
    "freq"
   ]
  },
  {
   "cell_type": "code",
   "execution_count": 46,
   "metadata": {},
   "outputs": [],
   "source": [
    "## Se ordena la frecuenia de los usuarios en la lista de frecuencias en orden desendente\n",
    "\n",
    "most_popular = freq.sort_values('repository',ascending=False)\n"
   ]
  },
  {
   "cell_type": "markdown",
   "metadata": {},
   "source": [
    "### Resultado\n",
    "\n",
    "De esta menera tenemos que los 5 usuarios que mas hicieron commits en el 2015 fueron:\n"
   ]
  },
  {
   "cell_type": "code",
   "execution_count": 47,
   "metadata": {},
   "outputs": [
    {
     "data": {
      "text/html": [
       "<div>\n",
       "<style scoped>\n",
       "    .dataframe tbody tr th:only-of-type {\n",
       "        vertical-align: middle;\n",
       "    }\n",
       "\n",
       "    .dataframe tbody tr th {\n",
       "        vertical-align: top;\n",
       "    }\n",
       "\n",
       "    .dataframe thead th {\n",
       "        text-align: right;\n",
       "    }\n",
       "</style>\n",
       "<table border=\"1\" class=\"dataframe\">\n",
       "  <thead>\n",
       "    <tr style=\"text-align: right;\">\n",
       "      <th></th>\n",
       "      <th>repository</th>\n",
       "    </tr>\n",
       "    <tr>\n",
       "      <th>users</th>\n",
       "      <th></th>\n",
       "    </tr>\n",
       "  </thead>\n",
       "  <tbody>\n",
       "    <tr>\n",
       "      <th>jspm</th>\n",
       "      <td>94</td>\n",
       "    </tr>\n",
       "    <tr>\n",
       "      <th>cloudify-cosmo</th>\n",
       "      <td>88</td>\n",
       "    </tr>\n",
       "    <tr>\n",
       "      <th>KenanSulayman</th>\n",
       "      <td>80</td>\n",
       "    </tr>\n",
       "    <tr>\n",
       "      <th>zendframework</th>\n",
       "      <td>64</td>\n",
       "    </tr>\n",
       "    <tr>\n",
       "      <th>osp</th>\n",
       "      <td>62</td>\n",
       "    </tr>\n",
       "  </tbody>\n",
       "</table>\n",
       "</div>"
      ],
      "text/plain": [
       "                repository\n",
       "users                     \n",
       "jspm                    94\n",
       "cloudify-cosmo          88\n",
       "KenanSulayman           80\n",
       "zendframework           64\n",
       "osp                     62"
      ]
     },
     "execution_count": 47,
     "metadata": {},
     "output_type": "execute_result"
    }
   ],
   "source": [
    "most_popular.head()"
   ]
  },
  {
   "cell_type": "code",
   "execution_count": null,
   "metadata": {},
   "outputs": [],
   "source": []
  }
 ],
 "metadata": {
  "kernelspec": {
   "display_name": "Python 3",
   "language": "python",
   "name": "python3"
  },
  "language_info": {
   "codemirror_mode": {
    "name": "ipython",
    "version": 3
   },
   "file_extension": ".py",
   "mimetype": "text/x-python",
   "name": "python",
   "nbconvert_exporter": "python",
   "pygments_lexer": "ipython3",
   "version": "3.8.5"
  }
 },
 "nbformat": 4,
 "nbformat_minor": 5
}
