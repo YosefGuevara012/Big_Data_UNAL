{
 "cells": [
  {
   "cell_type": "markdown",
   "id": "relative-chess",
   "metadata": {},
   "source": [
    "# Github Archive"
   ]
  },
  {
   "cell_type": "markdown",
   "id": "romantic-utilization",
   "metadata": {},
   "source": [
    "Presentado por: Yosef Guevara Salamanca"
   ]
  },
  {
   "cell_type": "markdown",
   "id": "average-blanket",
   "metadata": {},
   "source": [
    "\n",
    "## Ejercicio\n",
    "\n",
    "Every public github event for the last few years stored as gzip compressed line-delimited JSON data. Watch out, the schema switches at the 2014-2015 transition.\n",
    "\n",
    "[Download link](https://www.githubarchive.org/)\n",
    "\n",
    "**Try the following:**\n",
    "\n",
    "1. Use dask.bag to inspect the data\n",
    "2. Drill down using functions like pluck and filter\n",
    "3. Find who the most popular committers were in 2015"
   ]
  },
  {
   "cell_type": "markdown",
   "id": "extended-marketing",
   "metadata": {},
   "source": [
    "## 1. Use dask.bag to inspect the data"
   ]
  },
  {
   "cell_type": "code",
   "execution_count": 1,
   "id": "charitable-helena",
   "metadata": {},
   "outputs": [],
   "source": [
    "# Librerias necesarias\n",
    "\n",
    "import dask.bag as db\n",
    "import json\n",
    "import numpy as np\n",
    "import pandas as pd\n",
    "import aiohttp\n",
    "import requests"
   ]
  },
  {
   "cell_type": "code",
   "execution_count": 2,
   "id": "vocal-sunset",
   "metadata": {},
   "outputs": [
    {
     "data": {
      "text/plain": [
       "dask.bag<loads, npartitions=1>"
      ]
     },
     "execution_count": 2,
     "metadata": {},
     "output_type": "execute_result"
    }
   ],
   "source": [
    "# Se crea un Dask bag llamado \"git\"\n",
    "\n",
    "git = db.read_text('https://data.gharchive.org/2015-01-01-15.json.gz').map(json.loads)\n",
    "git"
   ]
  },
  {
   "cell_type": "code",
   "execution_count": 3,
   "id": "balanced-conjunction",
   "metadata": {},
   "outputs": [
    {
     "data": {
      "text/plain": [
       "dask.bag.core.Bag"
      ]
     },
     "execution_count": 3,
     "metadata": {},
     "output_type": "execute_result"
    }
   ],
   "source": [
    "# Muestra tipo de objeyo que es la varaible git\n",
    "\n",
    "type(git)"
   ]
  },
  {
   "cell_type": "code",
   "execution_count": 4,
   "id": "charged-singapore",
   "metadata": {},
   "outputs": [
    {
     "data": {
      "text/plain": [
       "({'id': '2489651045',\n",
       "  'type': 'CreateEvent',\n",
       "  'actor': {'id': 665991,\n",
       "   'login': 'petroav',\n",
       "   'gravatar_id': '',\n",
       "   'url': 'https://api.github.com/users/petroav',\n",
       "   'avatar_url': 'https://avatars.githubusercontent.com/u/665991?'},\n",
       "  'repo': {'id': 28688495,\n",
       "   'name': 'petroav/6.828',\n",
       "   'url': 'https://api.github.com/repos/petroav/6.828'},\n",
       "  'payload': {'ref': 'master',\n",
       "   'ref_type': 'branch',\n",
       "   'master_branch': 'master',\n",
       "   'description': \"Solution to homework and assignments from MIT's 6.828 (Operating Systems Engineering). Done in my spare time.\",\n",
       "   'pusher_type': 'user'},\n",
       "  'public': True,\n",
       "  'created_at': '2015-01-01T15:00:00Z'},\n",
       " {'id': '2489651051',\n",
       "  'type': 'PushEvent',\n",
       "  'actor': {'id': 3854017,\n",
       "   'login': 'rspt',\n",
       "   'gravatar_id': '',\n",
       "   'url': 'https://api.github.com/users/rspt',\n",
       "   'avatar_url': 'https://avatars.githubusercontent.com/u/3854017?'},\n",
       "  'repo': {'id': 28671719,\n",
       "   'name': 'rspt/rspt-theme',\n",
       "   'url': 'https://api.github.com/repos/rspt/rspt-theme'},\n",
       "  'payload': {'push_id': 536863970,\n",
       "   'size': 1,\n",
       "   'distinct_size': 1,\n",
       "   'ref': 'refs/heads/master',\n",
       "   'head': '6b089eb4a43f728f0a594388092f480f2ecacfcd',\n",
       "   'before': '437c03652caa0bc4a7554b18d5c0a394c2f3d326',\n",
       "   'commits': [{'sha': '6b089eb4a43f728f0a594388092f480f2ecacfcd',\n",
       "     'author': {'email': '5c682c2d1ec4073e277f9ba9f4bdf07e5794dabe@rspt.ch',\n",
       "      'name': 'rspt'},\n",
       "     'message': 'Fix main header height on mobile',\n",
       "     'distinct': True,\n",
       "     'url': 'https://api.github.com/repos/rspt/rspt-theme/commits/6b089eb4a43f728f0a594388092f480f2ecacfcd'}]},\n",
       "  'public': True,\n",
       "  'created_at': '2015-01-01T15:00:01Z'})"
      ]
     },
     "execution_count": 4,
     "metadata": {},
     "output_type": "execute_result"
    }
   ],
   "source": [
    "# Se toman 2 objetos dentro de la bolsa y se visualizan\n",
    "\n",
    "git.take(2)"
   ]
  },
  {
   "cell_type": "code",
   "execution_count": 5,
   "id": "appreciated-extreme",
   "metadata": {},
   "outputs": [
    {
     "data": {
      "text/plain": [
       "11351"
      ]
     },
     "execution_count": 5,
     "metadata": {},
     "output_type": "execute_result"
    }
   ],
   "source": [
    "# Se visualiza el tañamo de la bolsa\n",
    "\n",
    "tamaño = git.count()\n",
    "tamaño.compute()"
   ]
  },
  {
   "cell_type": "markdown",
   "id": "compact-liability",
   "metadata": {},
   "source": [
    "## 2. Drill down using functions like pluck and filter"
   ]
  },
  {
   "cell_type": "markdown",
   "id": "twelve-finger",
   "metadata": {},
   "source": [
    "Aplicación de la función de filtrado"
   ]
  },
  {
   "cell_type": "code",
   "execution_count": 6,
   "id": "backed-omega",
   "metadata": {},
   "outputs": [
    {
     "data": {
      "text/plain": [
       "5815"
      ]
     },
     "execution_count": 6,
     "metadata": {},
     "output_type": "execute_result"
    }
   ],
   "source": [
    "# Muestra la cantidad de eventos Push generados en todo el DataSet\n",
    "\n",
    "git.filter(lambda record: record['type'] == 'PushEvent').count().compute()"
   ]
  },
  {
   "cell_type": "code",
   "execution_count": 7,
   "id": "finite-soundtrack",
   "metadata": {},
   "outputs": [
    {
     "data": {
      "text/plain": [
       "1471"
      ]
     },
     "execution_count": 7,
     "metadata": {},
     "output_type": "execute_result"
    }
   ],
   "source": [
    "# Muestra la cantidad de repositorios creados\n",
    "\n",
    "git.filter(lambda record: record['type'] == 'CreateEvent').count().compute()"
   ]
  },
  {
   "cell_type": "code",
   "execution_count": 8,
   "id": "general-costa",
   "metadata": {},
   "outputs": [
    {
     "data": {
      "text/plain": [
       "2"
      ]
     },
     "execution_count": 8,
     "metadata": {},
     "output_type": "execute_result"
    }
   ],
   "source": [
    "# Muestra la cantidad de repositorios creados en la fecha 2015-01-01T15:00:01Z\n",
    "\n",
    "git.filter(lambda record: record['created_at'] == '2015-01-01T15:00:01Z').count().compute()"
   ]
  },
  {
   "cell_type": "code",
   "execution_count": 9,
   "id": "proprietary-least",
   "metadata": {},
   "outputs": [
    {
     "data": {
      "text/plain": [
       "11351"
      ]
     },
     "execution_count": 9,
     "metadata": {},
     "output_type": "execute_result"
    }
   ],
   "source": [
    "# Muestra la cantidad de repositorios privados del dataset\n",
    "\n",
    "git.filter(lambda record: record['public'] == True).count().compute()"
   ]
  },
  {
   "cell_type": "markdown",
   "id": "korean-testament",
   "metadata": {},
   "source": [
    "Aplicación de la función de pluck"
   ]
  },
  {
   "cell_type": "code",
   "execution_count": 10,
   "id": "framed-philippines",
   "metadata": {},
   "outputs": [
    {
     "data": {
      "text/plain": [
       "['2489651045',\n",
       " '2489651051',\n",
       " '2489651053',\n",
       " '2489651057',\n",
       " '2489651062',\n",
       " '2489651063',\n",
       " '2489651064',\n",
       " '2489651066',\n",
       " '2489651067',\n",
       " '2489651071']"
      ]
     },
     "execution_count": 10,
     "metadata": {},
     "output_type": "execute_result"
    }
   ],
   "source": [
    "# Crea una lista con 10 id de repositorios\n",
    "\n",
    "list(git.pluck('id').take(10))"
   ]
  },
  {
   "cell_type": "code",
   "execution_count": 11,
   "id": "optional-nutrition",
   "metadata": {},
   "outputs": [
    {
     "data": {
      "text/plain": [
       "([{'sha': '6b089eb4a43f728f0a594388092f480f2ecacfcd',\n",
       "   'author': {'email': '5c682c2d1ec4073e277f9ba9f4bdf07e5794dabe@rspt.ch',\n",
       "    'name': 'rspt'},\n",
       "   'message': 'Fix main header height on mobile',\n",
       "   'distinct': True,\n",
       "   'url': 'https://api.github.com/repos/rspt/rspt-theme/commits/6b089eb4a43f728f0a594388092f480f2ecacfcd'}],)"
      ]
     },
     "execution_count": 11,
     "metadata": {},
     "output_type": "execute_result"
    }
   ],
   "source": [
    "# Muestra unos de los commits del repo 2489651051\n",
    "\n",
    "git.filter(lambda record: record['id'] == '2489651051').pluck('payload').pluck('commits').take(1)"
   ]
  },
  {
   "cell_type": "markdown",
   "id": "ambient-spending",
   "metadata": {},
   "source": [
    "## 3. Find who the most popular committers were in 2015"
   ]
  },
  {
   "cell_type": "code",
   "execution_count": 12,
   "id": "backed-absorption",
   "metadata": {},
   "outputs": [],
   "source": [
    "# Se hace un llamado a la libreria RegEx para encontrar los patrones\n",
    "\n",
    "import re"
   ]
  },
  {
   "cell_type": "code",
   "execution_count": 14,
   "id": "accessible-piano",
   "metadata": {},
   "outputs": [
    {
     "data": {
      "text/plain": [
       "\"('petroav/6.828',)\""
      ]
     },
     "execution_count": 14,
     "metadata": {},
     "output_type": "execute_result"
    }
   ],
   "source": [
    "# Se verifica la estructura del usuario\n",
    "\n",
    "str(git.pluck('repo').pluck('name').take(1))"
   ]
  },
  {
   "cell_type": "code",
   "execution_count": 15,
   "id": "improving-procedure",
   "metadata": {},
   "outputs": [],
   "source": [
    "# Se crea una función para identificar el patrón de los nombres de usuarios\n",
    "\n",
    "userRegEx = re.compile(r'(\\w+\\S*)+\\/')"
   ]
  },
  {
   "cell_type": "code",
   "execution_count": null,
   "id": "fossil-india",
   "metadata": {},
   "outputs": [],
   "source": [
    "mo = userRegEx.search(str(git.pluck('repo').pluck('name').take(1)))\n",
    "print(mo.group())"
   ]
  },
  {
   "cell_type": "code",
   "execution_count": 18,
   "id": "heard-footage",
   "metadata": {},
   "outputs": [
    {
     "ename": "KeyboardInterrupt",
     "evalue": "",
     "output_type": "error",
     "traceback": [
      "\u001b[0;31m---------------------------------------------------------------------------\u001b[0m",
      "\u001b[0;31mKeyboardInterrupt\u001b[0m                         Traceback (most recent call last)",
      "\u001b[0;32m<ipython-input-18-9faa132c38f2>\u001b[0m in \u001b[0;36m<module>\u001b[0;34m\u001b[0m\n\u001b[1;32m      1\u001b[0m \u001b[0;31m# Se incializa una lista en blanco para los nombres de los usuarios\u001b[0m\u001b[0;34m\u001b[0m\u001b[0;34m\u001b[0m\u001b[0;34m\u001b[0m\u001b[0m\n\u001b[1;32m      2\u001b[0m \u001b[0muser_list\u001b[0m \u001b[0;34m=\u001b[0m  \u001b[0mstr\u001b[0m\u001b[0;34m(\u001b[0m\u001b[0mgit\u001b[0m\u001b[0;34m.\u001b[0m\u001b[0mpluck\u001b[0m\u001b[0;34m(\u001b[0m\u001b[0;34m'repo'\u001b[0m\u001b[0;34m)\u001b[0m\u001b[0;34m.\u001b[0m\u001b[0mpluck\u001b[0m\u001b[0;34m(\u001b[0m\u001b[0;34m'name'\u001b[0m\u001b[0;34m)\u001b[0m\u001b[0;34m.\u001b[0m\u001b[0mtake\u001b[0m\u001b[0;34m(\u001b[0m\u001b[0;36m100\u001b[0m\u001b[0;34m)\u001b[0m\u001b[0;34m)\u001b[0m\u001b[0;34m\u001b[0m\u001b[0;34m\u001b[0m\u001b[0m\n\u001b[0;32m----> 3\u001b[0;31m \u001b[0muser_list\u001b[0m \u001b[0;34m=\u001b[0m \u001b[0muserRegEx\u001b[0m\u001b[0;34m.\u001b[0m\u001b[0mfindall\u001b[0m\u001b[0;34m(\u001b[0m\u001b[0muser_list\u001b[0m\u001b[0;34m)\u001b[0m\u001b[0;34m\u001b[0m\u001b[0;34m\u001b[0m\u001b[0m\n\u001b[0m\u001b[1;32m      4\u001b[0m \u001b[0muser_list\u001b[0m\u001b[0;34m\u001b[0m\u001b[0;34m\u001b[0m\u001b[0m\n",
      "\u001b[0;31mKeyboardInterrupt\u001b[0m: "
     ]
    }
   ],
   "source": [
    "# Se incializa una lista en blanco para los nombres de los usuarios\n",
    "user_list =  str(git.pluck('repo').pluck('name').take(100))\n",
    "user_list = userRegEx.findall(user_list)\n",
    "user_list "
   ]
  },
  {
   "cell_type": "code",
   "execution_count": null,
   "id": "exclusive-brass",
   "metadata": {},
   "outputs": [],
   "source": []
  }
 ],
 "metadata": {
  "kernelspec": {
   "display_name": "Python 3",
   "language": "python",
   "name": "python3"
  },
  "language_info": {
   "codemirror_mode": {
    "name": "ipython",
    "version": 3
   },
   "file_extension": ".py",
   "mimetype": "text/x-python",
   "name": "python",
   "nbconvert_exporter": "python",
   "pygments_lexer": "ipython3",
   "version": "3.7.10"
  }
 },
 "nbformat": 4,
 "nbformat_minor": 5
}
