{
 "cells": [
  {
   "cell_type": "markdown",
   "id": "generic-fetish",
   "metadata": {},
   "source": [
    "# Reddit Comments\n",
    "\n"
   ]
  },
  {
   "cell_type": "markdown",
   "id": "dependent-stupid",
   "metadata": {},
   "source": [
    "Presentado por: Yosef Guevara Salamanca"
   ]
  },
  {
   "cell_type": "markdown",
   "id": "female-senator",
   "metadata": {},
   "source": [
    "\n",
    "[Download link](https://www.reddit.com/r/datasets/comments/3bxlg7/i_have_every_publicly_available_reddit_comment/)\n",
    "\n",
    "Every publicly available reddit comment, available as a large torrent\n",
    "\n",
    "**Try the following:**\n",
    "\n",
    "*  Use `dask.bag` to inspect the data\n",
    "*  Combine `dask.bag` with `nltk` or `gensim` to perform textual analyis on the data\n",
    "*  Reproduce the work of [Daniel Rodriguez](https://extrapolations.dev/blog/2015/07/reproduceit-reddit-word-count-dask/) and see if you can improve upon his speeds when analyzing this data."
   ]
  },
  {
   "cell_type": "markdown",
   "id": "billion-significance",
   "metadata": {},
   "source": [
    "## Ejercicio\n",
    "\n",
    "Este ejecicio pesa 250GB compromido y 2TB sin comprimir, Ni mi maquina virtual, ni mi computador tienen tanto espacio en el disco dura, la Base de datos no cuenta con un API es un torrent que se debe descargar."
   ]
  },
  {
   "cell_type": "markdown",
   "id": "ignored-burlington",
   "metadata": {},
   "source": [
    "![reddit](./img/reddit.png) "
   ]
  },
  {
   "cell_type": "code",
   "execution_count": null,
   "id": "burning-furniture",
   "metadata": {},
   "outputs": [],
   "source": []
  }
 ],
 "metadata": {
  "kernelspec": {
   "display_name": "Python 3",
   "language": "python",
   "name": "python3"
  },
  "language_info": {
   "codemirror_mode": {
    "name": "ipython",
    "version": 3
   },
   "file_extension": ".py",
   "mimetype": "text/x-python",
   "name": "python",
   "nbconvert_exporter": "python",
   "pygments_lexer": "ipython3",
   "version": "3.7.10"
  }
 },
 "nbformat": 4,
 "nbformat_minor": 5
}
