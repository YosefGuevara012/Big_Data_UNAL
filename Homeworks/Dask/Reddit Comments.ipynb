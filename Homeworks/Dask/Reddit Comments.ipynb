{
 "cells": [
  {
   "cell_type": "markdown",
   "metadata": {},
   "source": [
    "# Reddit Comments\n",
    "\n"
   ]
  },
  {
   "cell_type": "markdown",
   "metadata": {},
   "source": [
    "Presentado por: Yosef Guevara Salamanca"
   ]
  },
  {
   "cell_type": "markdown",
   "metadata": {},
   "source": [
    "\n",
    "[Download link](https://www.reddit.com/r/datasets/comments/3bxlg7/i_have_every_publicly_available_reddit_comment/)\n",
    "\n",
    "Every publicly available reddit comment, available as a large torrent\n",
    "\n",
    "**Try the following:**\n",
    "\n",
    "*  Use `dask.bag` to inspect the data\n",
    "*  Combine `dask.bag` with `nltk` or `gensim` to perform textual analyis on the data\n",
    "*  Reproduce the work of [Daniel Rodriguez](https://extrapolations.dev/blog/2015/07/reproduceit-reddit-word-count-dask/) and see if you can improve upon his speeds when analyzing this data."
   ]
  },
  {
   "cell_type": "markdown",
   "metadata": {},
   "source": [
    "## Ejercicio\n",
    "\n",
    "Este ejecicio pesa 250GB compromido y 2TB sin comprimir, Ni mi maquina virtual, ni mi computador tienen tanto espacio en el disco dura, la Base de datos no cuenta con un API es un torrent que se debe descargar."
   ]
  },
  {
   "cell_type": "markdown",
   "metadata": {},
   "source": [
    "![reddit](./img/reddit.png) "
   ]
  },
  {
   "cell_type": "markdown",
   "metadata": {},
   "source": [
    "Dado que no es posible descargar los datos he decidido hacer uso del siguiente json **RC_2010-01.json** que contiene los comentarios de reddit para el año 2010-01\n",
    "\n",
    "Tomado del siguiente enlace: https://files.pushshift.io/reddit/comments/"
   ]
  },
  {
   "cell_type": "code",
   "execution_count": 1,
   "metadata": {},
   "outputs": [],
   "source": [
    "# Llamado a las librerias necesarias\n",
    "\n",
    "import dask.bag as db\n",
    "import json"
   ]
  },
  {
   "cell_type": "markdown",
   "metadata": {},
   "source": [
    "### 1. Use `dask.bag` to inspect the data"
   ]
  },
  {
   "cell_type": "code",
   "execution_count": 2,
   "metadata": {},
   "outputs": [
    {
     "data": {
      "text/plain": [
       "dask.bag<loads, npartitions=1>"
      ]
     },
     "execution_count": 2,
     "metadata": {},
     "output_type": "execute_result"
    }
   ],
   "source": [
    "# Se crea un Dask bag llamado \"reddit\"\n",
    "reddit = db.read_text('D:\\Descargas\\RC_2010-01').map(json.loads)\n",
    "reddit"
   ]
  },
  {
   "cell_type": "code",
   "execution_count": 3,
   "metadata": {},
   "outputs": [
    {
     "data": {
      "text/plain": [
       "dask.bag.core.Bag"
      ]
     },
     "execution_count": 3,
     "metadata": {},
     "output_type": "execute_result"
    }
   ],
   "source": [
    "# Muestra tipo de objeyo que es la varaible reddit\n",
    "\n",
    "type(reddit)"
   ]
  },
  {
   "cell_type": "code",
   "execution_count": 4,
   "metadata": {},
   "outputs": [
    {
     "data": {
      "text/plain": [
       "({'controversiality': 0,\n",
       "  'id': 'c0i12v3',\n",
       "  'name': 't1_c0i12v3',\n",
       "  'retrieved_on': 1426171563,\n",
       "  'body': 'Good rant, stop looking for a mass movement, if one appears fine, but first change yourself.\\nWhile at 54 still a work in process, I am a vegetarian (see corporate tainted food ect.) I shop at farmers markets, small shops and co-ops (member owned) I live in a urban space for two of 900 sq ft. I ride a bike and take MTA. I bank at a Federal Credit Union (small, local, member owned. Most importantly, I choose to live simply.\\nAs example . . . Go to a corporate drug store (the checkout girl has no health or retirement  and has to stock shelves and sweep floors for minimum wage or less if the corporation could, and is concerned abouting chatting about the community becouse of the boss.) or ride a mile to an owner run drug store (she welcome me by name, asks about my family and work or the community. She provides health and retirement for her workers.)\\nEvery day and every doller I spend I make a chooise and incurage others to do the same. Do you still bank at B of A or Chase? Why? Eat at Mc Ds or BK ? Why? What corporate policys are you supporting in Washingtion by funding them? If the policys are against your values the thousands of dollers votes out waigh your one electoral vote. Who is funding the Corporate lobbiest pushing the loophole in the tax bill? Be a Citizen or s Consumer.\\nWorking with others that may not see the world the same is a sign of adulthood wether at work or the community could this be why it is getting harder to solve problems?  ',\n",
       "  'subreddit_id': 't5_2cneq',\n",
       "  'author_flair_text': None,\n",
       "  'distinguished': None,\n",
       "  'ups': 5,\n",
       "  'parent_id': 't3_akcbt',\n",
       "  'downs': 0,\n",
       "  'archived': True,\n",
       "  'score': 5,\n",
       "  'author_flair_css_class': None,\n",
       "  'created_utc': '1262304000',\n",
       "  'gilded': 0,\n",
       "  'edited': False,\n",
       "  'author': 'David_ungerer',\n",
       "  'subreddit': 'politics',\n",
       "  'link_id': 't3_akcbt',\n",
       "  'score_hidden': False},)"
      ]
     },
     "execution_count": 4,
     "metadata": {},
     "output_type": "execute_result"
    }
   ],
   "source": [
    "# Se toma 1 objeto dentro de la bolsa y se visualiza\n",
    "\n",
    "reddit.take(1)"
   ]
  },
  {
   "cell_type": "code",
   "execution_count": 5,
   "metadata": {},
   "outputs": [
    {
     "data": {
      "text/plain": [
       "2884096"
      ]
     },
     "execution_count": 5,
     "metadata": {},
     "output_type": "execute_result"
    }
   ],
   "source": [
    "# Se visualiza el tañamo de la bolsa\n",
    "\n",
    "tamaño = reddit.count()\n",
    "tamaño.compute()"
   ]
  },
  {
   "cell_type": "markdown",
   "metadata": {},
   "source": [
    "### 2. Combine `dask.bag` with `nltk` or `gensim` to perform textual analyis on the data"
   ]
  },
  {
   "cell_type": "code",
   "execution_count": 7,
   "metadata": {},
   "outputs": [
    {
     "ename": "ModuleNotFoundError",
     "evalue": "No module named 'nltk'",
     "output_type": "error",
     "traceback": [
      "\u001b[1;31m---------------------------------------------------------------------------\u001b[0m",
      "\u001b[1;31mModuleNotFoundError\u001b[0m                       Traceback (most recent call last)",
      "\u001b[1;32m<ipython-input-7-1d2184025e54>\u001b[0m in \u001b[0;36m<module>\u001b[1;34m\u001b[0m\n\u001b[1;32m----> 1\u001b[1;33m \u001b[1;32mimport\u001b[0m \u001b[0mnltk\u001b[0m\u001b[1;33m\u001b[0m\u001b[1;33m\u001b[0m\u001b[0m\n\u001b[0m",
      "\u001b[1;31mModuleNotFoundError\u001b[0m: No module named 'nltk'"
     ]
    }
   ],
   "source": [
    "import nltk"
   ]
  },
  {
   "cell_type": "markdown",
   "metadata": {},
   "source": [
    "### 3. Reproduce the work of Daniel Rodriguez and see if you can improve upon his speeds when analyzing this data.\n",
    "\n",
    "El codigo de Daniel Rodriguez ya no se encuentra disponible como se muestra en la siguiente imagen:\n",
    "    \n",
    "![reddit](./img/DR.png)     "
   ]
  },
  {
   "cell_type": "code",
   "execution_count": null,
   "metadata": {},
   "outputs": [],
   "source": []
  }
 ],
 "metadata": {
  "kernelspec": {
   "display_name": "Python 3",
   "language": "python",
   "name": "python3"
  },
  "language_info": {
   "codemirror_mode": {
    "name": "ipython",
    "version": 3
   },
   "file_extension": ".py",
   "mimetype": "text/x-python",
   "name": "python",
   "nbconvert_exporter": "python",
   "pygments_lexer": "ipython3",
   "version": "3.8.5"
  }
 },
 "nbformat": 4,
 "nbformat_minor": 5
}
