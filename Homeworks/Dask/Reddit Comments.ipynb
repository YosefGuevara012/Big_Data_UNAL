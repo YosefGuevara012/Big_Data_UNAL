{
 "cells": [
  {
   "cell_type": "markdown",
   "metadata": {},
   "source": [
    "# Reddit Comments\n",
    "\n"
   ]
  },
  {
   "cell_type": "markdown",
   "metadata": {},
   "source": [
    "Presentado por: Yosef Guevara Salamanca"
   ]
  },
  {
   "cell_type": "markdown",
   "metadata": {},
   "source": [
    "\n",
    "[Download link](https://www.reddit.com/r/datasets/comments/3bxlg7/i_have_every_publicly_available_reddit_comment/)\n",
    "\n",
    "Every publicly available reddit comment, available as a large torrent\n",
    "\n",
    "**Try the following:**\n",
    "\n",
    "*  Use `dask.bag` to inspect the data\n",
    "*  Combine `dask.bag` with `nltk` or `gensim` to perform textual analyis on the data\n",
    "*  Reproduce the work of [Daniel Rodriguez](https://extrapolations.dev/blog/2015/07/reproduceit-reddit-word-count-dask/) and see if you can improve upon his speeds when analyzing this data."
   ]
  },
  {
   "cell_type": "markdown",
   "metadata": {},
   "source": [
    "## Ejercicio\n",
    "\n",
    "Este ejecicio pesa 250GB compromido y 2TB sin comprimir, Ni mi maquina virtual, ni mi computador tienen tanto espacio en el disco dura, la Base de datos no cuenta con un API es un torrent que se debe descargar."
   ]
  },
  {
   "cell_type": "markdown",
   "metadata": {},
   "source": [
    "![reddit](./img/reddit.png) "
   ]
  },
  {
   "cell_type": "markdown",
   "metadata": {},
   "source": [
    "Dado que no es posible descargar los datos he decidido hacer uso del siguiente json **RC_2010-01.json** que contiene los comentarios de reddit para el año 2010-01\n",
    "\n",
    "Tomado del siguiente enlace: https://files.pushshift.io/reddit/comments/"
   ]
  },
  {
   "cell_type": "code",
   "execution_count": 1,
   "metadata": {},
   "outputs": [],
   "source": [
    "# Llamado a las librerias necesarias\n",
    "\n",
    "import dask.bag as db\n",
    "import json"
   ]
  },
  {
   "cell_type": "markdown",
   "metadata": {},
   "source": [
    "### 1. Use `dask.bag` to inspect the data"
   ]
  },
  {
   "cell_type": "code",
   "execution_count": 2,
   "metadata": {},
   "outputs": [
    {
     "data": {
      "text/plain": [
       "dask.bag<loads, npartitions=1>"
      ]
     },
     "execution_count": 2,
     "metadata": {},
     "output_type": "execute_result"
    }
   ],
   "source": [
    "# Se crea un Dask bag llamado \"reddit\"\n",
    "reddit = db.read_text('D:\\Descargas\\RC_2010-01').map(json.loads)\n",
    "reddit"
   ]
  },
  {
   "cell_type": "code",
   "execution_count": 3,
   "metadata": {},
   "outputs": [
    {
     "data": {
      "text/plain": [
       "dask.bag.core.Bag"
      ]
     },
     "execution_count": 3,
     "metadata": {},
     "output_type": "execute_result"
    }
   ],
   "source": [
    "# Muestra tipo de objeyo que es la varaible reddit\n",
    "\n",
    "type(reddit)"
   ]
  },
  {
   "cell_type": "code",
   "execution_count": 4,
   "metadata": {},
   "outputs": [
    {
     "data": {
      "text/plain": [
       "({'controversiality': 0,\n",
       "  'id': 'c0i12v3',\n",
       "  'name': 't1_c0i12v3',\n",
       "  'retrieved_on': 1426171563,\n",
       "  'body': 'Good rant, stop looking for a mass movement, if one appears fine, but first change yourself.\\nWhile at 54 still a work in process, I am a vegetarian (see corporate tainted food ect.) I shop at farmers markets, small shops and co-ops (member owned) I live in a urban space for two of 900 sq ft. I ride a bike and take MTA. I bank at a Federal Credit Union (small, local, member owned. Most importantly, I choose to live simply.\\nAs example . . . Go to a corporate drug store (the checkout girl has no health or retirement  and has to stock shelves and sweep floors for minimum wage or less if the corporation could, and is concerned abouting chatting about the community becouse of the boss.) or ride a mile to an owner run drug store (she welcome me by name, asks about my family and work or the community. She provides health and retirement for her workers.)\\nEvery day and every doller I spend I make a chooise and incurage others to do the same. Do you still bank at B of A or Chase? Why? Eat at Mc Ds or BK ? Why? What corporate policys are you supporting in Washingtion by funding them? If the policys are against your values the thousands of dollers votes out waigh your one electoral vote. Who is funding the Corporate lobbiest pushing the loophole in the tax bill? Be a Citizen or s Consumer.\\nWorking with others that may not see the world the same is a sign of adulthood wether at work or the community could this be why it is getting harder to solve problems?  ',\n",
       "  'subreddit_id': 't5_2cneq',\n",
       "  'author_flair_text': None,\n",
       "  'distinguished': None,\n",
       "  'ups': 5,\n",
       "  'parent_id': 't3_akcbt',\n",
       "  'downs': 0,\n",
       "  'archived': True,\n",
       "  'score': 5,\n",
       "  'author_flair_css_class': None,\n",
       "  'created_utc': '1262304000',\n",
       "  'gilded': 0,\n",
       "  'edited': False,\n",
       "  'author': 'David_ungerer',\n",
       "  'subreddit': 'politics',\n",
       "  'link_id': 't3_akcbt',\n",
       "  'score_hidden': False},)"
      ]
     },
     "execution_count": 4,
     "metadata": {},
     "output_type": "execute_result"
    }
   ],
   "source": [
    "# Se toma 1 objeto dentro de la bolsa y se visualiza\n",
    "\n",
    "reddit.take(1)"
   ]
  },
  {
   "cell_type": "code",
   "execution_count": 5,
   "metadata": {},
   "outputs": [
    {
     "data": {
      "text/plain": [
       "2884096"
      ]
     },
     "execution_count": 5,
     "metadata": {},
     "output_type": "execute_result"
    }
   ],
   "source": [
    "# Se visualiza el tañamo de la bolsa\n",
    "\n",
    "tamaño = reddit.count()\n",
    "tamaño.compute()"
   ]
  },
  {
   "cell_type": "markdown",
   "metadata": {},
   "source": [
    "### 2. Combine `dask.bag` with `nltk` or `gensim` to perform textual analyis on the data"
   ]
  },
  {
   "cell_type": "code",
   "execution_count": 6,
   "metadata": {},
   "outputs": [],
   "source": [
    "# Se importa la libreia nltk\n",
    "\n",
    "import nltk\n",
    "\n"
   ]
  },
  {
   "cell_type": "code",
   "execution_count": 7,
   "metadata": {},
   "outputs": [
    {
     "data": {
      "text/plain": [
       "\"('Good rant, stop looking for a mass movement, if one appears fine, but first change yourself.\\\\nWhile at 54 still a work in process, I am a vegetarian (see corporate tainted food ect.) I shop at farmers markets, small shops and co-ops (member owned) I live in a urban space for two of 900 sq ft. I ride a bike and take MTA. I bank at a Federal Credit Union (small, local, member owned. Most importantly, I choose to live simply.\\\\nAs example . . . Go to a corporate drug store (the checkout girl has no health or retirement  and has to stock shelves and sweep floors for minimum wage or less if the corporation could, and is concerned abouting chatting about the community becouse of the boss.) or ride a mile to an owner run drug store (she welcome me by name, asks about my family and work or the community. She provides health and retirement for her workers.)\\\\nEvery day and every doller I spend I make a chooise and incurage others to do the same. Do you still bank at B of A or Chase? Why? Eat at Mc Ds or BK ? Why? What corporate policys are you supporting in Washingtion by funding them? If the policys are against your values the thousands of dollers votes out waigh your one electoral vote. Who is funding the Corporate lobbiest pushing the loophole in the tax bill? Be a Citizen or s Consumer.\\\\nWorking with others that may not see the world the same is a sign of adulthood wether at work or the community could this be why it is getting harder to solve problems?  ',)\""
      ]
     },
     "execution_count": 7,
     "metadata": {},
     "output_type": "execute_result"
    }
   ],
   "source": [
    "# Se toma uno de los comentarios de reddit\n",
    "\n",
    "review =  str(reddit.pluck('body').take(1))\n",
    "review"
   ]
  },
  {
   "cell_type": "code",
   "execution_count": 8,
   "metadata": {},
   "outputs": [
    {
     "name": "stdout",
     "output_type": "stream",
     "text": [
      "['(', \"'Good\", 'rant', ',', 'stop', 'looking', 'for', 'a', 'mass', 'movement', ',', 'if', 'one', 'appears', 'fine', ',', 'but', 'first', 'change', 'yourself.\\\\nWhile', 'at', '54', 'still', 'a', 'work', 'in', 'process', ',', 'I', 'am', 'a', 'vegetarian', '(', 'see', 'corporate', 'tainted', 'food', 'ect', '.', ')', 'I', 'shop', 'at', 'farmers', 'markets', ',', 'small', 'shops', 'and', 'co-ops', '(', 'member', 'owned', ')', 'I', 'live', 'in', 'a', 'urban', 'space', 'for', 'two', 'of', '900', 'sq', 'ft', '.', 'I', 'ride', 'a', 'bike', 'and', 'take', 'MTA', '.', 'I', 'bank', 'at', 'a', 'Federal', 'Credit', 'Union', '(', 'small', ',', 'local', ',', 'member', 'owned', '.', 'Most', 'importantly', ',', 'I', 'choose', 'to', 'live', 'simply.\\\\nAs', 'example', '.', '.', '.', 'Go', 'to', 'a', 'corporate', 'drug', 'store', '(', 'the', 'checkout', 'girl', 'has', 'no', 'health', 'or', 'retirement', 'and', 'has', 'to', 'stock', 'shelves', 'and', 'sweep', 'floors', 'for', 'minimum', 'wage', 'or', 'less', 'if', 'the', 'corporation', 'could', ',', 'and', 'is', 'concerned', 'abouting', 'chatting', 'about', 'the', 'community', 'becouse', 'of', 'the', 'boss', '.', ')', 'or', 'ride', 'a', 'mile', 'to', 'an', 'owner', 'run', 'drug', 'store', '(', 'she', 'welcome', 'me', 'by', 'name', ',', 'asks', 'about', 'my', 'family', 'and', 'work', 'or', 'the', 'community', '.', 'She', 'provides', 'health', 'and', 'retirement', 'for', 'her', 'workers', '.', ')', '\\\\nEvery', 'day', 'and', 'every', 'doller', 'I', 'spend', 'I', 'make', 'a', 'chooise', 'and', 'incurage', 'others', 'to', 'do', 'the', 'same', '.', 'Do', 'you', 'still', 'bank', 'at', 'B', 'of', 'A', 'or', 'Chase', '?', 'Why', '?', 'Eat', 'at', 'Mc', 'Ds', 'or', 'BK', '?', 'Why', '?', 'What', 'corporate', 'policys', 'are', 'you', 'supporting', 'in', 'Washingtion', 'by', 'funding', 'them', '?', 'If', 'the', 'policys', 'are', 'against', 'your', 'values', 'the', 'thousands', 'of', 'dollers', 'votes', 'out', 'waigh', 'your', 'one', 'electoral', 'vote', '.', 'Who', 'is', 'funding', 'the', 'Corporate', 'lobbiest', 'pushing', 'the', 'loophole', 'in', 'the', 'tax', 'bill', '?', 'Be', 'a', 'Citizen', 'or', 's', 'Consumer.\\\\nWorking', 'with', 'others', 'that', 'may', 'not', 'see', 'the', 'world', 'the', 'same', 'is', 'a', 'sign', 'of', 'adulthood', 'wether', 'at', 'work', 'or', 'the', 'community', 'could', 'this', 'be', 'why', 'it', 'is', 'getting', 'harder', 'to', 'solve', 'problems', '?', \"'\", ',', ')']\n"
     ]
    },
    {
     "name": "stderr",
     "output_type": "stream",
     "text": [
      "[nltk_data] Downloading package punkt to\n",
      "[nltk_data]     C:\\Users\\yosef\\AppData\\Roaming\\nltk_data...\n",
      "[nltk_data]   Package punkt is already up-to-date!\n"
     ]
    }
   ],
   "source": [
    "# Se crea un token por cada palabra\n",
    "\n",
    "nltk.download('punkt')\n",
    "\n",
    "tokens = nltk.word_tokenize(review)\n",
    "print(tokens)"
   ]
  },
  {
   "cell_type": "code",
   "execution_count": 9,
   "metadata": {},
   "outputs": [
    {
     "name": "stdout",
     "output_type": "stream",
     "text": [
      "[\"('Good rant, stop looking for a mass movement, if one appears fine, but first change yourself.\\\\nWhile at 54 still a work in process, I am a vegetarian (see corporate tainted food ect.)\", 'I shop at farmers markets, small shops and co-ops (member owned) I live in a urban space for two of 900 sq ft.', 'I ride a bike and take MTA.', 'I bank at a Federal Credit Union (small, local, member owned.', 'Most importantly, I choose to live simply.\\\\nAs example .', '.', '.', 'Go to a corporate drug store (the checkout girl has no health or retirement  and has to stock shelves and sweep floors for minimum wage or less if the corporation could, and is concerned abouting chatting about the community becouse of the boss.)', 'or ride a mile to an owner run drug store (she welcome me by name, asks about my family and work or the community.', 'She provides health and retirement for her workers.', ')\\\\nEvery day and every doller I spend I make a chooise and incurage others to do the same.', 'Do you still bank at B of A or Chase?', 'Why?', 'Eat at Mc Ds or BK ?', 'Why?', 'What corporate policys are you supporting in Washingtion by funding them?', 'If the policys are against your values the thousands of dollers votes out waigh your one electoral vote.', 'Who is funding the Corporate lobbiest pushing the loophole in the tax bill?', 'Be a Citizen or s Consumer.\\\\nWorking with others that may not see the world the same is a sign of adulthood wether at work or the community could this be why it is getting harder to solve problems?', \"',)\"]\n"
     ]
    }
   ],
   "source": [
    "# Se crea un token por cada oración\n",
    "\n",
    "print(nltk.sent_tokenize(review))"
   ]
  },
  {
   "cell_type": "code",
   "execution_count": 10,
   "metadata": {},
   "outputs": [
    {
     "name": "stderr",
     "output_type": "stream",
     "text": [
      "[nltk_data] Downloading package averaged_perceptron_tagger to\n",
      "[nltk_data]     C:\\Users\\yosef\\AppData\\Roaming\\nltk_data...\n",
      "[nltk_data]   Package averaged_perceptron_tagger is already up-to-\n",
      "[nltk_data]       date!\n"
     ]
    },
    {
     "data": {
      "text/plain": [
       "[('(', '('),\n",
       " (\"'Good\", 'CD'),\n",
       " ('rant', 'NN'),\n",
       " (',', ','),\n",
       " ('stop', 'VB'),\n",
       " ('looking', 'VBG')]"
      ]
     },
     "execution_count": 10,
     "metadata": {},
     "output_type": "execute_result"
    }
   ],
   "source": [
    "# Se taggea el texto\n",
    "\n",
    "nltk.download('averaged_perceptron_tagger')\n",
    "\n",
    "tagged = nltk.pos_tag(tokens)\n",
    "tagged[0:6]"
   ]
  },
  {
   "cell_type": "code",
   "execution_count": 11,
   "metadata": {},
   "outputs": [
    {
     "name": "stdout",
     "output_type": "stream",
     "text": [
      "(S\n",
      "  (/(\n",
      "  'Good/CD\n",
      "  rant/NN\n",
      "  ,/,\n",
      "  stop/VB\n",
      "  looking/VBG\n",
      "  for/IN\n",
      "  a/DT\n",
      "  mass/NN\n",
      "  movement/NN\n",
      "  ,/,\n",
      "  if/IN\n",
      "  one/CD\n",
      "  appears/VBZ\n",
      "  fine/JJ\n",
      "  ,/,\n",
      "  but/CC\n",
      "  first/JJ\n",
      "  change/NN\n",
      "  yourself.\\nWhile/NN\n",
      "  at/IN\n",
      "  54/CD\n",
      "  still/RB\n",
      "  a/DT\n",
      "  work/NN\n",
      "  in/IN\n",
      "  process/NN\n",
      "  ,/,\n",
      "  I/PRP\n",
      "  am/VBP\n",
      "  a/DT\n",
      "  vegetarian/JJ\n",
      "  (/(\n",
      "  see/VB\n",
      "  corporate/JJ\n",
      "  tainted/VBN\n",
      "  food/NN\n",
      "  ect/NN\n",
      "  ./.\n",
      "  )/)\n",
      "  I/PRP\n",
      "  shop/VBP\n",
      "  at/IN\n",
      "  farmers/NNS\n",
      "  markets/NNS\n",
      "  ,/,\n",
      "  small/JJ\n",
      "  shops/NNS\n",
      "  and/CC\n",
      "  co-ops/NNS\n",
      "  (/(\n",
      "  member/NN\n",
      "  owned/VBN\n",
      "  )/)\n",
      "  I/PRP\n",
      "  live/VBP\n",
      "  in/IN\n",
      "  a/DT\n",
      "  urban/JJ\n",
      "  space/NN\n",
      "  for/IN\n",
      "  two/CD\n",
      "  of/IN\n",
      "  900/CD\n",
      "  sq/JJ\n",
      "  ft/NN\n",
      "  ./.\n",
      "  I/PRP\n",
      "  ride/VBP\n",
      "  a/DT\n",
      "  bike/NN\n",
      "  and/CC\n",
      "  take/VB\n",
      "  (ORGANIZATION MTA/NNP)\n",
      "  ./.\n",
      "  I/PRP\n",
      "  bank/NN\n",
      "  at/IN\n",
      "  a/DT\n",
      "  (ORGANIZATION Federal/NNP Credit/NNP Union/NNP)\n",
      "  (/(\n",
      "  small/JJ\n",
      "  ,/,\n",
      "  local/JJ\n",
      "  ,/,\n",
      "  member/NN\n",
      "  owned/VBN\n",
      "  ./.\n",
      "  Most/JJS\n",
      "  importantly/RB\n",
      "  ,/,\n",
      "  I/PRP\n",
      "  choose/VBP\n",
      "  to/TO\n",
      "  live/VB\n",
      "  simply.\\nAs/JJ\n",
      "  example/NN\n",
      "  ./.\n",
      "  ./.\n",
      "  ./.\n",
      "  Go/VB\n",
      "  to/TO\n",
      "  a/DT\n",
      "  corporate/JJ\n",
      "  drug/NN\n",
      "  store/NN\n",
      "  (/(\n",
      "  the/DT\n",
      "  checkout/NN\n",
      "  girl/NN\n",
      "  has/VBZ\n",
      "  no/DT\n",
      "  health/NN\n",
      "  or/CC\n",
      "  retirement/NN\n",
      "  and/CC\n",
      "  has/VBZ\n",
      "  to/TO\n",
      "  stock/NN\n",
      "  shelves/NNS\n",
      "  and/CC\n",
      "  sweep/JJ\n",
      "  floors/NNS\n",
      "  for/IN\n",
      "  minimum/JJ\n",
      "  wage/NN\n",
      "  or/CC\n",
      "  less/JJR\n",
      "  if/IN\n",
      "  the/DT\n",
      "  corporation/NN\n",
      "  could/MD\n",
      "  ,/,\n",
      "  and/CC\n",
      "  is/VBZ\n",
      "  concerned/VBN\n",
      "  abouting/VBG\n",
      "  chatting/VBG\n",
      "  about/IN\n",
      "  the/DT\n",
      "  community/NN\n",
      "  becouse/NN\n",
      "  of/IN\n",
      "  the/DT\n",
      "  boss/NN\n",
      "  ./.\n",
      "  )/)\n",
      "  or/CC\n",
      "  ride/VB\n",
      "  a/DT\n",
      "  mile/NN\n",
      "  to/TO\n",
      "  an/DT\n",
      "  owner/NN\n",
      "  run/VBN\n",
      "  drug/NN\n",
      "  store/NN\n",
      "  (/(\n",
      "  she/PRP\n",
      "  welcome/VB\n",
      "  me/PRP\n",
      "  by/IN\n",
      "  name/NN\n",
      "  ,/,\n",
      "  asks/VBZ\n",
      "  about/IN\n",
      "  my/PRP$\n",
      "  family/NN\n",
      "  and/CC\n",
      "  work/NN\n",
      "  or/CC\n",
      "  the/DT\n",
      "  community/NN\n",
      "  ./.\n",
      "  She/PRP\n",
      "  provides/VBZ\n",
      "  health/NN\n",
      "  and/CC\n",
      "  retirement/NN\n",
      "  for/IN\n",
      "  her/PRP$\n",
      "  workers/NNS\n",
      "  ./.\n",
      "  )/)\n",
      "  \\nEvery/DT\n",
      "  day/NN\n",
      "  and/CC\n",
      "  every/DT\n",
      "  doller/NN\n",
      "  I/PRP\n",
      "  spend/VBP\n",
      "  I/PRP\n",
      "  make/VBP\n",
      "  a/DT\n",
      "  chooise/NN\n",
      "  and/CC\n",
      "  incurage/NN\n",
      "  others/NNS\n",
      "  to/TO\n",
      "  do/VB\n",
      "  the/DT\n",
      "  same/JJ\n",
      "  ./.\n",
      "  Do/VB\n",
      "  you/PRP\n",
      "  still/RB\n",
      "  bank/NN\n",
      "  at/IN\n",
      "  B/NNP\n",
      "  of/IN\n",
      "  A/NNP\n",
      "  or/CC\n",
      "  (PERSON Chase/NNP)\n",
      "  ?/.\n",
      "  Why/WRB\n",
      "  ?/.\n",
      "  Eat/NN\n",
      "  at/IN\n",
      "  (FACILITY Mc/NNP Ds/NNP)\n",
      "  or/CC\n",
      "  BK/NNP\n",
      "  ?/.\n",
      "  Why/WRB\n",
      "  ?/.\n",
      "  What/WP\n",
      "  corporate/JJ\n",
      "  policys/NN\n",
      "  are/VBP\n",
      "  you/PRP\n",
      "  supporting/VBG\n",
      "  in/IN\n",
      "  (GPE Washingtion/NNP)\n",
      "  by/IN\n",
      "  funding/VBG\n",
      "  them/PRP\n",
      "  ?/.\n",
      "  If/IN\n",
      "  the/DT\n",
      "  policys/NN\n",
      "  are/VBP\n",
      "  against/IN\n",
      "  your/PRP$\n",
      "  values/NNS\n",
      "  the/DT\n",
      "  thousands/NNS\n",
      "  of/IN\n",
      "  dollers/NNS\n",
      "  votes/NNS\n",
      "  out/RP\n",
      "  waigh/RB\n",
      "  your/PRP$\n",
      "  one/CD\n",
      "  electoral/JJ\n",
      "  vote/NN\n",
      "  ./.\n",
      "  Who/WP\n",
      "  is/VBZ\n",
      "  funding/VBG\n",
      "  the/DT\n",
      "  (ORGANIZATION Corporate/NNP)\n",
      "  lobbiest/JJS\n",
      "  pushing/VBG\n",
      "  the/DT\n",
      "  loophole/NN\n",
      "  in/IN\n",
      "  the/DT\n",
      "  tax/NN\n",
      "  bill/NN\n",
      "  ?/.\n",
      "  Be/VB\n",
      "  a/DT\n",
      "  Citizen/NNP\n",
      "  or/CC\n",
      "  s/VB\n",
      "  Consumer.\\nWorking/VBG\n",
      "  with/IN\n",
      "  others/NNS\n",
      "  that/WDT\n",
      "  may/MD\n",
      "  not/RB\n",
      "  see/VB\n",
      "  the/DT\n",
      "  world/NN\n",
      "  the/DT\n",
      "  same/JJ\n",
      "  is/VBZ\n",
      "  a/DT\n",
      "  sign/NN\n",
      "  of/IN\n",
      "  adulthood/NN\n",
      "  wether/NN\n",
      "  at/IN\n",
      "  work/NN\n",
      "  or/CC\n",
      "  the/DT\n",
      "  community/NN\n",
      "  could/MD\n",
      "  this/DT\n",
      "  be/VB\n",
      "  why/WRB\n",
      "  it/PRP\n",
      "  is/VBZ\n",
      "  getting/VBG\n",
      "  harder/RBR\n",
      "  to/TO\n",
      "  solve/VB\n",
      "  problems/NNS\n",
      "  ?/.\n",
      "  '/''\n",
      "  ,/,\n",
      "  )/))\n"
     ]
    },
    {
     "name": "stderr",
     "output_type": "stream",
     "text": [
      "[nltk_data] Downloading package maxent_ne_chunker to\n",
      "[nltk_data]     C:\\Users\\yosef\\AppData\\Roaming\\nltk_data...\n",
      "[nltk_data]   Package maxent_ne_chunker is already up-to-date!\n",
      "[nltk_data] Downloading package words to\n",
      "[nltk_data]     C:\\Users\\yosef\\AppData\\Roaming\\nltk_data...\n",
      "[nltk_data]   Package words is already up-to-date!\n"
     ]
    }
   ],
   "source": [
    "# Identifica las entidades nombradas:\n",
    "\n",
    "nltk.download('maxent_ne_chunker')\n",
    "nltk.download('words')\n",
    "entities = nltk.chunk.ne_chunk(tagged)\n",
    "print(entities)"
   ]
  },
  {
   "cell_type": "code",
   "execution_count": 12,
   "metadata": {},
   "outputs": [
    {
     "name": "stdout",
     "output_type": "stream",
     "text": [
      "{'o', 'for', 'now', 'at', 'theirs', \"don't\", 'no', \"isn't\", 'his', 'nor', 'about', 'any', 'where', 'these', 'you', 'what', \"you'd\", 'your', 'its', 'wouldn', 'mightn', 'who', 'm', 'herself', 'with', \"haven't\", 'of', 'here', 'than', 'my', 'before', 'few', 'against', 'won', 'doesn', 'from', 'hasn', 'that', 'under', 'hers', 'don', 'very', 'into', 'same', 'during', 'shan', 'own', 'myself', 'can', 'are', 'but', \"should've\", 'above', 'off', 'between', 'only', 'too', 'he', 're', \"couldn't\", \"shan't\", 'i', 'if', 've', 'have', \"mightn't\", 'were', 'once', 'should', 'themselves', 'all', 'an', 'be', 'had', 'y', 'again', 'him', \"you're\", 'both', 't', 'more', 'yourselves', 'does', 'a', 'by', 'ours', \"hadn't\", 'most', 'will', 'why', 'her', 'yourself', \"it's\", 'each', \"aren't\", 'yours', \"doesn't\", 'do', 'other', 'been', 'am', 'there', 'shouldn', 'and', \"she's\", 'or', 's', 'aren', \"mustn't\", 'we', 'while', 'haven', 'did', 'mustn', 'needn', 'which', 'our', 'she', 'below', \"shouldn't\", \"wouldn't\", 'over', 'ain', 'just', 'until', 'it', 'himself', 'the', 'as', \"won't\", 'such', \"didn't\", \"you've\", 'isn', 'weren', 'wasn', 'on', 'after', 'd', 'their', 'in', 'not', 'doing', 'this', 'so', 'up', 'didn', 'being', 'has', 'them', 'was', 'll', 'hadn', 'itself', 'through', 'those', 'down', 'couldn', \"weren't\", 'when', 'because', \"you'll\", 'me', \"hasn't\", 'ma', 'ourselves', \"that'll\", 'they', 'is', \"wasn't\", 'then', 'having', 'whom', 'out', 'some', 'to', 'how', \"needn't\", 'further'}\n"
     ]
    },
    {
     "name": "stderr",
     "output_type": "stream",
     "text": [
      "[nltk_data] Downloading package stopwords to\n",
      "[nltk_data]     C:\\Users\\yosef\\AppData\\Roaming\\nltk_data...\n",
      "[nltk_data]   Package stopwords is already up-to-date!\n"
     ]
    }
   ],
   "source": [
    "# Se crea un set que contiene las palabras más comunes en ingles\n",
    "\n",
    "nltk.download('stopwords')\n",
    "stop_words = set(nltk.corpus.stopwords.words('english'))\n",
    "print(stop_words)"
   ]
  },
  {
   "cell_type": "code",
   "execution_count": 13,
   "metadata": {},
   "outputs": [],
   "source": [
    "# Se filtra el review para eliminar las palabras más comunes en ingles\n",
    "\n",
    "review_filtrado = []\n",
    "\n",
    "for token in tokens:\n",
    "    if token not in stop_words:\n",
    "        review_filtrado.append(token)"
   ]
  },
  {
   "cell_type": "code",
   "execution_count": 14,
   "metadata": {},
   "outputs": [
    {
     "name": "stdout",
     "output_type": "stream",
     "text": [
      "\n",
      " Review Original \n",
      "\n",
      "['(', \"'Good\", 'rant', ',', 'stop', 'looking', 'for', 'a', 'mass', 'movement', ',', 'if', 'one', 'appears', 'fine', ',', 'but', 'first', 'change', 'yourself.\\\\nWhile', 'at', '54', 'still', 'a', 'work', 'in', 'process', ',', 'I', 'am', 'a', 'vegetarian', '(', 'see', 'corporate', 'tainted', 'food', 'ect', '.', ')', 'I', 'shop', 'at', 'farmers', 'markets', ',', 'small', 'shops', 'and', 'co-ops', '(', 'member', 'owned', ')', 'I', 'live', 'in', 'a', 'urban', 'space', 'for', 'two', 'of', '900', 'sq', 'ft', '.', 'I', 'ride', 'a', 'bike', 'and', 'take', 'MTA', '.', 'I', 'bank', 'at', 'a', 'Federal', 'Credit', 'Union', '(', 'small', ',', 'local', ',', 'member', 'owned', '.', 'Most', 'importantly', ',', 'I', 'choose', 'to', 'live', 'simply.\\\\nAs', 'example', '.', '.', '.', 'Go', 'to', 'a', 'corporate', 'drug', 'store', '(', 'the', 'checkout', 'girl', 'has', 'no', 'health', 'or', 'retirement', 'and', 'has', 'to', 'stock', 'shelves', 'and', 'sweep', 'floors', 'for', 'minimum', 'wage', 'or', 'less', 'if', 'the', 'corporation', 'could', ',', 'and', 'is', 'concerned', 'abouting', 'chatting', 'about', 'the', 'community', 'becouse', 'of', 'the', 'boss', '.', ')', 'or', 'ride', 'a', 'mile', 'to', 'an', 'owner', 'run', 'drug', 'store', '(', 'she', 'welcome', 'me', 'by', 'name', ',', 'asks', 'about', 'my', 'family', 'and', 'work', 'or', 'the', 'community', '.', 'She', 'provides', 'health', 'and', 'retirement', 'for', 'her', 'workers', '.', ')', '\\\\nEvery', 'day', 'and', 'every', 'doller', 'I', 'spend', 'I', 'make', 'a', 'chooise', 'and', 'incurage', 'others', 'to', 'do', 'the', 'same', '.', 'Do', 'you', 'still', 'bank', 'at', 'B', 'of', 'A', 'or', 'Chase', '?', 'Why', '?', 'Eat', 'at', 'Mc', 'Ds', 'or', 'BK', '?', 'Why', '?', 'What', 'corporate', 'policys', 'are', 'you', 'supporting', 'in', 'Washingtion', 'by', 'funding', 'them', '?', 'If', 'the', 'policys', 'are', 'against', 'your', 'values', 'the', 'thousands', 'of', 'dollers', 'votes', 'out', 'waigh', 'your', 'one', 'electoral', 'vote', '.', 'Who', 'is', 'funding', 'the', 'Corporate', 'lobbiest', 'pushing', 'the', 'loophole', 'in', 'the', 'tax', 'bill', '?', 'Be', 'a', 'Citizen', 'or', 's', 'Consumer.\\\\nWorking', 'with', 'others', 'that', 'may', 'not', 'see', 'the', 'world', 'the', 'same', 'is', 'a', 'sign', 'of', 'adulthood', 'wether', 'at', 'work', 'or', 'the', 'community', 'could', 'this', 'be', 'why', 'it', 'is', 'getting', 'harder', 'to', 'solve', 'problems', '?', \"'\", ',', ')']\n",
      "\n",
      " Review Filtrado \n",
      "\n",
      "['(', \"'Good\", 'rant', ',', 'stop', 'looking', 'mass', 'movement', ',', 'one', 'appears', 'fine', ',', 'first', 'change', 'yourself.\\\\nWhile', '54', 'still', 'work', 'process', ',', 'I', 'vegetarian', '(', 'see', 'corporate', 'tainted', 'food', 'ect', '.', ')', 'I', 'shop', 'farmers', 'markets', ',', 'small', 'shops', 'co-ops', '(', 'member', 'owned', ')', 'I', 'live', 'urban', 'space', 'two', '900', 'sq', 'ft', '.', 'I', 'ride', 'bike', 'take', 'MTA', '.', 'I', 'bank', 'Federal', 'Credit', 'Union', '(', 'small', ',', 'local', ',', 'member', 'owned', '.', 'Most', 'importantly', ',', 'I', 'choose', 'live', 'simply.\\\\nAs', 'example', '.', '.', '.', 'Go', 'corporate', 'drug', 'store', '(', 'checkout', 'girl', 'health', 'retirement', 'stock', 'shelves', 'sweep', 'floors', 'minimum', 'wage', 'less', 'corporation', 'could', ',', 'concerned', 'abouting', 'chatting', 'community', 'becouse', 'boss', '.', ')', 'ride', 'mile', 'owner', 'run', 'drug', 'store', '(', 'welcome', 'name', ',', 'asks', 'family', 'work', 'community', '.', 'She', 'provides', 'health', 'retirement', 'workers', '.', ')', '\\\\nEvery', 'day', 'every', 'doller', 'I', 'spend', 'I', 'make', 'chooise', 'incurage', 'others', '.', 'Do', 'still', 'bank', 'B', 'A', 'Chase', '?', 'Why', '?', 'Eat', 'Mc', 'Ds', 'BK', '?', 'Why', '?', 'What', 'corporate', 'policys', 'supporting', 'Washingtion', 'funding', '?', 'If', 'policys', 'values', 'thousands', 'dollers', 'votes', 'waigh', 'one', 'electoral', 'vote', '.', 'Who', 'funding', 'Corporate', 'lobbiest', 'pushing', 'loophole', 'tax', 'bill', '?', 'Be', 'Citizen', 'Consumer.\\\\nWorking', 'others', 'may', 'see', 'world', 'sign', 'adulthood', 'wether', 'work', 'community', 'could', 'getting', 'harder', 'solve', 'problems', '?', \"'\", ',', ')']\n"
     ]
    }
   ],
   "source": [
    "# Se compara el review original con el filtrado\n",
    "\n",
    "print(\"\\n Review Original \\n\")\n",
    "print(tokens)\n",
    "print(\"\\n Review Filtrado \\n\")\n",
    "print(review_filtrado)"
   ]
  },
  {
   "cell_type": "markdown",
   "metadata": {},
   "source": [
    "### 3. Reproduce the work of Daniel Rodriguez and see if you can improve upon his speeds when analyzing this data.\n",
    "\n",
    "El codigo de Daniel Rodriguez ya no se encuentra disponible como se muestra en la siguiente imagen:\n",
    "    \n",
    "![DanielRodriguez](./img/DR.PNG)     "
   ]
  },
  {
   "cell_type": "code",
   "execution_count": null,
   "metadata": {},
   "outputs": [],
   "source": []
  }
 ],
 "metadata": {
  "kernelspec": {
   "display_name": "Python 3",
   "language": "python",
   "name": "python3"
  },
  "language_info": {
   "codemirror_mode": {
    "name": "ipython",
    "version": 3
   },
   "file_extension": ".py",
   "mimetype": "text/x-python",
   "name": "python",
   "nbconvert_exporter": "python",
   "pygments_lexer": "ipython3",
   "version": "3.8.5"
  }
 },
 "nbformat": 4,
 "nbformat_minor": 5
}
