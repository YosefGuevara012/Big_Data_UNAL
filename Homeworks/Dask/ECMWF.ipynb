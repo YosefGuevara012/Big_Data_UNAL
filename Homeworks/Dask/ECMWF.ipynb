{
 "cells": [
  {
   "cell_type": "markdown",
   "metadata": {},
   "source": [
    "# European Centre for Medium Range Weather Forecasts"
   ]
  },
  {
   "cell_type": "markdown",
   "metadata": {},
   "source": [
    "Presentado por: Yosef Guevara Salamanca"
   ]
  },
  {
   "cell_type": "markdown",
   "metadata": {},
   "source": [
    "## 1. Descarga del script\n",
    "\n",
    "[Download script](https://gist.github.com/mrocklin/26d8323f9a8a6a75fce0)\n",
    "\n",
    "Download historical global weather data from the ECMWF."
   ]
  },
  {
   "cell_type": "code",
   "execution_count": null,
   "metadata": {},
   "outputs": [],
   "source": [
    "import pandas as pd\n",
    "dates = pd.date_range('2014-01-01', '2014-12-31', freq='D')\n",
    "dates = [str(d).split()[0] for d in dates]\n",
    "\n",
    "from ecmwfapi import ECMWFDataServer\n",
    "\n",
    "server = ECMWFDataServer()\n",
    "\n",
    "for date in dates:\n",
    "    server.retrieve({\n",
    "      'stream'    : \"oper\",\n",
    "      'levtype'   : \"sfc\",\n",
    "      'param'     : \"165.128/166.128/167.128\",\n",
    "      'dataset'   : \"interim\",\n",
    "      'step'      : \"00\",\n",
    "      'grid'      : \"0.25/0.25\",\n",
    "      'time'      : \"00/06/12/18\",\n",
    "      'date'      : date,\n",
    "      'type'      : \"an\",\n",
    "      'class'     : \"ei\",\n",
    "      'target'    : date + \".nc3\",\n",
    "      'format'    : \"netcdf\" })"
   ]
  },
  {
   "cell_type": "markdown",
   "metadata": {},
   "source": [
    "**Try the following:**\n",
    "\n",
    "*  What is the variance in temperature over time?\n",
    "*  What areas experienced the largest temperature swings in the last month relative to their previous history?\n",
    "*  Plot the temperature of the earth as a function of latitude and then as longitude"
   ]
  },
  {
   "cell_type": "code",
   "execution_count": null,
   "metadata": {},
   "outputs": [],
   "source": []
  }
 ],
 "metadata": {
  "kernelspec": {
   "display_name": "Python 3",
   "language": "python",
   "name": "python3"
  },
  "language_info": {
   "codemirror_mode": {
    "name": "ipython",
    "version": 3
   },
   "file_extension": ".py",
   "mimetype": "text/x-python",
   "name": "python",
   "nbconvert_exporter": "python",
   "pygments_lexer": "ipython3",
   "version": "3.8.5"
  }
 },
 "nbformat": 4,
 "nbformat_minor": 5
}
