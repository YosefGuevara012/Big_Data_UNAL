{
 "cells": [
  {
   "cell_type": "markdown",
   "id": "split-permit",
   "metadata": {},
   "source": [
    "# Regresión Lineal"
   ]
  },
  {
   "cell_type": "markdown",
   "id": "addressed-galaxy",
   "metadata": {
    "tags": []
   },
   "source": [
    "## 1. Introducción."
   ]
  },
  {
   "cell_type": "markdown",
   "id": "looking-metropolitan",
   "metadata": {},
   "source": [
    "La regresión linear es un método que intenta encontrar la relación entre una variable respuesta y una o más variables explicativas de tal modo que la variable respuesta pueda ser considerada dependiente de la otra(s). Este proceso está presente en múltiples aplicaciones tanto en la ingeniería, la física, como en las ciencias sociales o inclusive en la medicina a pesar de su increíble simplicidad. Existen dos clases la regresión lineal, la regresión lineal simple y la regresión lineal múltiple, en la regresión lineal simple existe una única variable explicativa para la variable respuesta y cuyo algoritmo sera explicado y ejemplificado en el presente notebook. Este proceso intenta encontrar los coeficientes adecuados de una recta en el plano cartesiano para minimizar la suma de los cuadrados de la distancia de los datos para a una línea recta. Los componentes más importantes de la regresión lineal simple son ejemplificados en la siguiente imagen.\n",
    "\n",
    "<center><img src=\"https://datascience.foundation/img/pdf_images/understanding_of_linear_regression_with_python_1.png\" alt=\"sieve shaker\" title=\"Regresión lineal simple\"/></center>\n"
   ]
  },
  {
   "cell_type": "markdown",
   "id": "juvenile-istanbul",
   "metadata": {},
   "source": [
    "## 2. Breve Historia"
   ]
  },
  {
   "cell_type": "markdown",
   "id": "removed-monte",
   "metadata": {},
   "source": [
    "La regresión lineal es una de las técnicas estadísticas de análisis entre variables más usadas en todo en mundo. El objetivo principal de este análisis es establecer una relación de dependencia entre una variable respuesta y una o múltiples variables explicativas.\n",
    "\n",
    "\n",
    "La primera vez que se estudio a profundidad este método fue en el siglo 19 de la mano del científico británico Sir Francis Galton, quien ya era famosos por sus exploraciones y sus libros de como sobrevivir en lugares salvajes.\n",
    "\n",
    "\n",
    "Galton fue un pionero en varias ramas de las ciencias entre ellas la estadística, como autodidacta de la naturaleza y mientras estudiaba los datos de los tamaños de padres y la descendencia de varios tipos de animales y plantas el observo que **\"Un padre más grande que la media tiende a producir un hijo más grande que la media, pero es probable que el hijo sea menos grande que el padre en términos de su posición relativa dentro de su propia generación\"**[[Cita]](http://people.duke.edu/~rnau/regintro.htm \"Introduction to linear regression analysis\").\n",
    "\n",
    "\n",
    "La siguiente ilustración de los estudios realizados por Galton, para este caso R es la pendiente de la recta y lo el coeficiente de relación.\n",
    "\n",
    "![Galton](./Img/Galton.jpg) \n",
    "\n",
    "**Imagen de la primera regresion lineal por Galton en 1877** \n",
    " "
   ]
  },
  {
   "cell_type": "markdown",
   "id": "fixed-greeting",
   "metadata": {},
   "source": [
    "## 3. El planteamiento del algortimo."
   ]
  },
  {
   "cell_type": "markdown",
   "id": "primary-training",
   "metadata": {},
   "source": [
    "El algoritmo del modelo de regresión lineal simple como se mencionó anteriormente solo tiene una explicativa o covariable en relación a una variable respuesta, estando su modelo general definido por:\n",
    "\n",
    "\n",
    "$$ y = B_{0}+ B_{1}x + error $$\n",
    "\n",
    "\n",
    "Donde $B_{0}$ es la ordenada al orgien, $B_{1}$ es la pendiente que acompaña a $x$, estos son los llamados **coeficientes de regresión** además se cuenta con un error de promedio cero, varianza desconocida y no relacionados entre si.\n",
    "\n",
    "Para estimar los valores de $B_{0}$ y $B_{1}$ se usa el metodo de minimos cuadrados, es decir que la distancia entre las observaciones sea minima. es decir que:\n",
    "\n",
    "$S\\left(B_{0},B_{1}\\right)=\\sum _{i=1}^n\\:\\left(y_i-B_{0}-B_{1}x_{i}\\right)^2$\n",
    "\n",
    "Donde:\n",
    "\n",
    "$$\\bar{y}=\\frac{1}{n}\\sum _{i=1}^n\\:\\left(y_i\\right)$$ \n",
    "\n",
    "con \n",
    "\n",
    "$$\\bar{x}=\\frac{1}{n}\\sum _{i=1}^n\\:\\left(x_i\\right)$$\n",
    "\n",
    "\n",
    "Para los estimadores, por minimos cuadrados, de $B_{0}$ y $B_{1}$, se designan como $\\hat{B}_{0}$ y $\\hat{B}_{1}$:\n",
    "\n",
    "$$\\hat{B}_1=\\frac{\\sum_{i=1}^n\\left(y_ix_i\\right)-\\frac{\\sum _{i=1}^n\\left(y_i\\right)\\cdot\\sum_{i=1}^n\\:\\left(x_i\\right)}{n}}{\\sum_{i=1}^nx^2-\\frac{\\left(\\sum_{i=1}^n\\left(x_i\\right)\\right)^2}{n}}$$\n",
    "\n",
    "En otras palabras:\n",
    "\n",
    "$$\\hat{B_1}\\:=\\:\\frac{S_{xy}}{S_{xx}}\\:=\\:\\frac{\\sum _{i=1}^n\\:\\left(x_i-\\bar{x}\\right)^2\\:\\:}{\\sum \\:_{i=1}^n\\:y_i\\left(x_i-\\bar{x}\\right)\\:}$$\n",
    "\n",
    "Ahora que tenemos a $\\hat{B}_1$, calcularemos a $\\hat{B}_0$\n",
    "\n",
    "$$\\hat{B}_0=\\bar{y}-\\hat{B}_1\\bar{x}$$\n",
    "\n",
    "El error entre el valor observado y el valor ajustado se encuentra dado por:\n",
    "\n",
    "$$e_i=y_i-\\hat{y_i},\\:i\\:=\\:1,2,...,n$$\n"
   ]
  },
  {
   "cell_type": "markdown",
   "id": "usual-building",
   "metadata": {},
   "source": [
    "## 4. Desarrollo de un ejemplo de regresión lineal, con datos reales."
   ]
  },
  {
   "cell_type": "markdown",
   "id": "hindu-drive",
   "metadata": {},
   "source": [
    "Los siguientes datos corresponden a los 50 estados y al Distrito de Columbia de Estados Unidos .  La variables respuesta  y es la tasa de natalidad del año 2002 por cada 1000 mujeres de 15 a 17 años y la covariable x  es tasa de pobreza, que es el porcentaje de la población que vive en hogares con ingresos inferiores al nivel de pobreza definido por el gobierno federal. (Fuente de datos: Mind On Statistics, 3ª edición, Utts y Heckard)."
   ]
  },
  {
   "cell_type": "markdown",
   "id": "auburn-teaching",
   "metadata": {},
   "source": [
    "### 4.1 Exploración de los datos"
   ]
  },
  {
   "cell_type": "code",
   "execution_count": 1,
   "id": "listed-orchestra",
   "metadata": {},
   "outputs": [],
   "source": [
    "# Importación de librerias necesarias.\n",
    "\n",
    "import numpy as np\n",
    "import pandas as pd\n",
    "import matplotlib.pyplot as plt\n"
   ]
  },
  {
   "cell_type": "code",
   "execution_count": 2,
   "id": "portuguese-modeling",
   "metadata": {},
   "outputs": [
    {
     "data": {
      "text/html": [
       "<div>\n",
       "<style scoped>\n",
       "    .dataframe tbody tr th:only-of-type {\n",
       "        vertical-align: middle;\n",
       "    }\n",
       "\n",
       "    .dataframe tbody tr th {\n",
       "        vertical-align: top;\n",
       "    }\n",
       "\n",
       "    .dataframe thead th {\n",
       "        text-align: right;\n",
       "    }\n",
       "</style>\n",
       "<table border=\"1\" class=\"dataframe\">\n",
       "  <thead>\n",
       "    <tr style=\"text-align: right;\">\n",
       "      <th></th>\n",
       "      <th>Location</th>\n",
       "      <th>PovPct</th>\n",
       "      <th>Brth15to17</th>\n",
       "      <th>Brth18to19</th>\n",
       "      <th>ViolCrime</th>\n",
       "      <th>TeenBrth</th>\n",
       "    </tr>\n",
       "  </thead>\n",
       "  <tbody>\n",
       "    <tr>\n",
       "      <th>0</th>\n",
       "      <td>Alabama</td>\n",
       "      <td>20.1</td>\n",
       "      <td>31.5</td>\n",
       "      <td>88.7</td>\n",
       "      <td>11.2</td>\n",
       "      <td>54.5</td>\n",
       "    </tr>\n",
       "    <tr>\n",
       "      <th>1</th>\n",
       "      <td>Alaska</td>\n",
       "      <td>7.1</td>\n",
       "      <td>18.9</td>\n",
       "      <td>73.7</td>\n",
       "      <td>9.1</td>\n",
       "      <td>39.5</td>\n",
       "    </tr>\n",
       "    <tr>\n",
       "      <th>2</th>\n",
       "      <td>Arizona</td>\n",
       "      <td>16.1</td>\n",
       "      <td>35.0</td>\n",
       "      <td>102.5</td>\n",
       "      <td>10.4</td>\n",
       "      <td>61.2</td>\n",
       "    </tr>\n",
       "    <tr>\n",
       "      <th>3</th>\n",
       "      <td>Arkansas</td>\n",
       "      <td>14.9</td>\n",
       "      <td>31.6</td>\n",
       "      <td>101.7</td>\n",
       "      <td>10.4</td>\n",
       "      <td>59.9</td>\n",
       "    </tr>\n",
       "    <tr>\n",
       "      <th>4</th>\n",
       "      <td>California</td>\n",
       "      <td>16.7</td>\n",
       "      <td>22.6</td>\n",
       "      <td>69.1</td>\n",
       "      <td>11.2</td>\n",
       "      <td>41.1</td>\n",
       "    </tr>\n",
       "  </tbody>\n",
       "</table>\n",
       "</div>"
      ],
      "text/plain": [
       "     Location  PovPct  Brth15to17  Brth18to19  ViolCrime  TeenBrth\n",
       "0     Alabama    20.1        31.5        88.7       11.2      54.5\n",
       "1      Alaska     7.1        18.9        73.7        9.1      39.5\n",
       "2     Arizona    16.1        35.0       102.5       10.4      61.2\n",
       "3    Arkansas    14.9        31.6       101.7       10.4      59.9\n",
       "4  California    16.7        22.6        69.1       11.2      41.1"
      ]
     },
     "execution_count": 2,
     "metadata": {},
     "output_type": "execute_result"
    }
   ],
   "source": [
    "# Lectura de datos\n",
    "poverty = pd.read_csv(\"./Datasets/poverty.csv\", sep=\";\")\n",
    "\n",
    "# Exploración de los datos\n",
    "poverty.head()"
   ]
  },
  {
   "cell_type": "markdown",
   "id": "liable-canada",
   "metadata": {},
   "source": [
    "Por facilidad asigaremos la tasa de pobreza a la variable $x$ y la tasa de natalidad a la varaible $y$"
   ]
  },
  {
   "cell_type": "code",
   "execution_count": 3,
   "id": "patent-grove",
   "metadata": {},
   "outputs": [
    {
     "data": {
      "text/plain": [
       "Text(0, 0.5, 'Tasa de natalidad mujeres de 15 a 17')"
      ]
     },
     "execution_count": 3,
     "metadata": {},
     "output_type": "execute_result"
    },
    {
     "data": {
      "image/png": "[encoded data removed]",
      "text/plain": [
       "<Figure size 432x288 with 1 Axes>"
      ]
     },
     "metadata": {
      "needs_background": "light"
     },
     "output_type": "display_data"
    }
   ],
   "source": [
    "## Asignación de los datos a las variables\n",
    "x = np.array(poverty['PovPct']).reshape(-1, 1)\n",
    "y = np.array(poverty['Brth15to17']).reshape(-1, 1)\n",
    "\n",
    "# Visualización de los datos\n",
    "plt.scatter(x,y)\n",
    "plt.title(\"Tasa de natalidad mujeres de 15 a 17 vs Pobreza\" )\n",
    "plt.xlabel(\"Tasa de probreza\")\n",
    "plt.ylabel(\"Tasa de natalidad mujeres de 15 a 17\")"
   ]
  },
  {
   "cell_type": "markdown",
   "id": "realistic-tamil",
   "metadata": {},
   "source": [
    "\n",
    "### 4.2 Calculo del promedio de la porbreza y la natalidad\n"
   ]
  },
  {
   "cell_type": "markdown",
   "id": "instant-childhood",
   "metadata": {},
   "source": [
    "Recordando que:\n",
    "\n",
    "$$\\bar{y}=\\frac{1}{n}\\sum \\:_{i=1}^n\\:\\left(y_i\\right)\\:;\\:\\:\\:\\:\\:\\bar{x}=\\frac{1}{n}\\sum \\:_{i=1}^n\\:\\left(x_i\\right)$$\n"
   ]
  },
  {
   "cell_type": "code",
   "execution_count": 4,
   "id": "broadband-native",
   "metadata": {},
   "outputs": [
    {
     "name": "stdout",
     "output_type": "stream",
     "text": [
      "Promedio tasa de pobreza: 13.117647058823534\n",
      "Promedio tasa de natalidad: 22.282352941176473\n"
     ]
    }
   ],
   "source": [
    "# Calculo de los promedios\n",
    "x_mean = x.mean()\n",
    "y_mean = y.mean()\n",
    "\n",
    "print(\"Promedio tasa de pobreza: \" + str(x_mean))\n",
    "print(\"Promedio tasa de natalidad: \" + str(y_mean))"
   ]
  },
  {
   "cell_type": "markdown",
   "id": "little-period",
   "metadata": {},
   "source": [
    "### 4.2 Calculo del estimador $\\hat{B_{1}}$"
   ]
  },
  {
   "cell_type": "markdown",
   "id": "absolute-briefing",
   "metadata": {},
   "source": [
    "\n",
    "En otras palabras:\n",
    "\n",
    "$$\\hat{B_1}\\:=\\:\\frac{S_{xy}}{S_{xx}}\\:=\\:\\frac{\\sum _{i=1}^n\\:\\left(x_i-\\bar{x}\\right)^2\\:\\:}{\\sum \\:_{i=1}^n\\:y_i\\left(x_i-\\bar{x}\\right)\\:}$$\n",
    "\n"
   ]
  },
  {
   "cell_type": "code",
   "execution_count": 5,
   "id": "rising-kitchen",
   "metadata": {},
   "outputs": [
    {
     "name": "stdout",
     "output_type": "stream",
     "text": [
      "B1: [1.37334539]\n"
     ]
    }
   ],
   "source": [
    "# Calculo de del coeficiente B1\n",
    "\n",
    "Sxy = 0\n",
    "Sxx = 0\n",
    "\n",
    "for val in x:\n",
    "    \n",
    "    Sxx += (val-x_mean)**2\n",
    "    \n",
    "for i,val in enumerate(x):\n",
    "    \n",
    "    Sxy += y[i]*(val-x_mean)\n",
    "\n",
    "B1 = Sxy/Sxx\n",
    "\n",
    "print(\"B1: \" + str(B1))\n"
   ]
  },
  {
   "cell_type": "markdown",
   "id": "honest-edmonton",
   "metadata": {},
   "source": [
    "### 4.3 Calculo del estimador $\\hat{B_{0}}$"
   ]
  },
  {
   "cell_type": "markdown",
   "id": "compressed-tobacco",
   "metadata": {},
   "source": [
    "\n",
    "\n",
    "$$\\hat{B}_0=\\bar{y}-\\hat{B}_1\\bar{x}$$\n"
   ]
  },
  {
   "cell_type": "code",
   "execution_count": 6,
   "id": "convinced-algebra",
   "metadata": {},
   "outputs": [
    {
     "name": "stdout",
     "output_type": "stream",
     "text": [
      "B0: [4.26729284]\n"
     ]
    }
   ],
   "source": [
    "B0 = y_mean - B1*x_mean\n",
    "print(\"B0: \" + str(B0))"
   ]
  },
  {
   "cell_type": "markdown",
   "id": "suburban-airplane",
   "metadata": {},
   "source": [
    "## 5. Conclusiones"
   ]
  },
  {
   "cell_type": "markdown",
   "id": "lightweight-pierre",
   "metadata": {},
   "source": [
    "Podemos decir entonces que el modelo:\n",
    "\n",
    "$$Tasa\\:natalidad\\:15a17=\\:4.26\\:+1.37\\cdot tasa\\:de\\:pobreza$$"
   ]
  },
  {
   "cell_type": "markdown",
   "id": "private-posting",
   "metadata": {},
   "source": [
    "Al ajustar la recta a los datos podemos ver que la tasa de natalidad aumenta con una relación lineal dependiente positiva, a medida que aumenta el nivel de pobreza aumenta la tasa de natilidad entre las jovenes de 15 a 17 años de los 50 estados y el distrito de columbia."
   ]
  },
  {
   "cell_type": "code",
   "execution_count": 7,
   "id": "corrected-genome",
   "metadata": {},
   "outputs": [
    {
     "data": {
      "text/plain": [
       "Text(0, 0.5, 'Datos en y')"
      ]
     },
     "execution_count": 7,
     "metadata": {},
     "output_type": "execute_result"
    },
    {
     "data": {
      "image/png": "[encoded data removed]",
      "text/plain": [
       "<Figure size 432x288 with 1 Axes>"
      ]
     },
     "metadata": {
      "needs_background": "light"
     },
     "output_type": "display_data"
    }
   ],
   "source": [
    "plt.scatter(x,y)\n",
    "line = B0 + B1*x\n",
    "plt.plot(x, line, color='r')\n",
    "plt.title(\"Datos ejemplificación\")\n",
    "plt.xlabel(\"Datos en x\")\n",
    "plt.ylabel(\"Datos en y\")"
   ]
  },
  {
   "cell_type": "markdown",
   "id": "moderate-casino",
   "metadata": {},
   "source": [
    "Gracias al modelo se puede decir que la tasa de natalidad de mujeres entre 15 a 17 años aumenta 1,373 unidades, por cada aumento de una unidad (uno por ciento) en la tasa de pobreza. \n",
    "\n",
    "\n",
    "Si hubiera un estado que no tuviera pobreza la media prevista para la tasa de natalidad de 15 a 17 años sería de 4,267."
   ]
  },
  {
   "cell_type": "markdown",
   "id": "manual-piano",
   "metadata": {},
   "source": [
    "### 5.1 Calculo del R cuadrado"
   ]
  },
  {
   "cell_type": "code",
   "execution_count": 8,
   "id": "center-circulation",
   "metadata": {},
   "outputs": [
    {
     "name": "stdout",
     "output_type": "stream",
     "text": [
      "El R cuadrado es:[0.53332796]\n"
     ]
    }
   ],
   "source": [
    "\n",
    "SSR = 0\n",
    "SST = 0\n",
    "\n",
    "for val in line:\n",
    "\n",
    "    SSR += (val-y_mean)**2\n",
    "\n",
    "for val in y:\n",
    "\n",
    "    SST += (val-y_mean)**2\n",
    "    \n",
    "R_2 = SSR/SST\n",
    "\n",
    "print(\"El R cuadrado es:\" + str(R_2))"
   ]
  },
  {
   "cell_type": "markdown",
   "id": "metallic-planet",
   "metadata": {},
   "source": [
    "El valor de r2 puede interpretarse como que las tasas de pobreza \"explican\" el 53,3% de la variación observada en las tasas medias de natalidad de 15 a 17 años de los estados."
   ]
  },
  {
   "cell_type": "code",
   "execution_count": null,
   "id": "declared-saturday",
   "metadata": {},
   "outputs": [],
   "source": []
  }
 ],
 "metadata": {
  "kernelspec": {
   "display_name": "Python 3",
   "language": "python",
   "name": "python3"
  },
  "language_info": {
   "codemirror_mode": {
    "name": "ipython",
    "version": 3
   },
   "file_extension": ".py",
   "mimetype": "text/x-python",
   "name": "python",
   "nbconvert_exporter": "python",
   "pygments_lexer": "ipython3",
   "version": "3.7.10"
  }
 },
 "nbformat": 4,
 "nbformat_minor": 5
}
